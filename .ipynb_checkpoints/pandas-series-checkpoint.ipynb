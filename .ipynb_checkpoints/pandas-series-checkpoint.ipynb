{
 "cells": [
  {
   "cell_type": "code",
   "execution_count": 1,
   "id": "c427e50c-e7a4-4d08-8ee8-8d306fb55896",
   "metadata": {},
   "outputs": [],
   "source": [
    "import pandas as pd"
   ]
  },
  {
   "cell_type": "code",
   "execution_count": 5,
   "id": "a9e2a509-6aa8-4fae-aba9-5f8b328deeea",
   "metadata": {},
   "outputs": [
    {
     "data": {
      "text/plain": [
       "0     5\n",
       "1    10\n",
       "2    15\n",
       "3    20\n",
       "4    25\n",
       "dtype: int64"
      ]
     },
     "execution_count": 5,
     "metadata": {},
     "output_type": "execute_result"
    }
   ],
   "source": [
    "pd.Series([5,10,15,20,25])"
   ]
  },
  {
   "cell_type": "code",
   "execution_count": 6,
   "id": "d0184184-4bd3-441b-966a-ad4278c9eab2",
   "metadata": {},
   "outputs": [
    {
     "data": {
      "text/plain": [
       "a    1\n",
       "b    2\n",
       "c    3\n",
       "d    4\n",
       "e    5\n",
       "dtype: int32"
      ]
     },
     "execution_count": 6,
     "metadata": {},
     "output_type": "execute_result"
    }
   ],
   "source": [
    "dt=[1,2,3,4,5]\n",
    "ind=['a','b','c','d','e']\n",
    "\n",
    "sample=pd.Series(data=dt,index=ind,dtype='int')\n",
    "sample"
   ]
  },
  {
   "cell_type": "code",
   "execution_count": 7,
   "id": "17335f3a-6428-4a5a-b4bd-7460e1094e00",
   "metadata": {},
   "outputs": [
    {
     "data": {
      "text/plain": [
       "Messi      8\n",
       "Ronaldo    5\n",
       "Platini    3\n",
       "dtype: int64"
      ]
     },
     "execution_count": 7,
     "metadata": {},
     "output_type": "execute_result"
    }
   ],
   "source": [
    "dicts={\n",
    "    'Messi':8,\n",
    "    'Ronaldo':5,\n",
    "    'Platini':3\n",
    "}\n",
    "\n",
    "pd.Series(data=dicts)"
   ]
  },
  {
   "cell_type": "code",
   "execution_count": 11,
   "id": "5f1524c5-1c33-41db-bfbb-f5e9773ec4a8",
   "metadata": {},
   "outputs": [
    {
     "data": {
      "text/plain": [
       "Messi      8.0\n",
       "Platini    3.0\n",
       "Neymar     NaN\n",
       "dtype: float64"
      ]
     },
     "execution_count": 11,
     "metadata": {},
     "output_type": "execute_result"
    }
   ],
   "source": [
    "test=pd.Series(data=dicts,index=['Messi','Platini','Neymar'])\n",
    "test"
   ]
  },
  {
   "cell_type": "code",
   "execution_count": 12,
   "id": "8e14fe78-b579-4602-9083-c2b9af2e30e0",
   "metadata": {},
   "outputs": [],
   "source": [
    "import numpy as np"
   ]
  },
  {
   "cell_type": "code",
   "execution_count": 13,
   "id": "abfb95bb-4538-4264-98f5-8743e334b777",
   "metadata": {},
   "outputs": [
    {
     "data": {
      "text/plain": [
       "w    1.0\n",
       "x    5.0\n",
       "y    8.5\n",
       "z    4.0\n",
       "dtype: float64"
      ]
     },
     "execution_count": 13,
     "metadata": {},
     "output_type": "execute_result"
    }
   ],
   "source": [
    "lst=np.array([1,5,8.5,4])\n",
    "srs=pd.array(['w','x','y','z'])\n",
    "\n",
    "test=pd.Series(data=lst,index=srs)\n",
    "test"
   ]
  },
  {
   "cell_type": "code",
   "execution_count": 18,
   "id": "7fb2ef3c-02da-47ce-8aa0-4212efaf7e01",
   "metadata": {},
   "outputs": [
    {
     "data": {
      "text/plain": [
       "0    hello\n",
       "1       45\n",
       "2     True\n",
       "3     45.5\n",
       "dtype: object"
      ]
     },
     "execution_count": 18,
     "metadata": {},
     "output_type": "execute_result"
    }
   ],
   "source": [
    "srs=pd.Series([\"hello\",45,True,45.5])\n",
    "srs"
   ]
  },
  {
   "cell_type": "code",
   "execution_count": 19,
   "id": "07b08f4f-71c4-48b5-9e1a-15bd9f57c88c",
   "metadata": {},
   "outputs": [
    {
     "data": {
      "text/plain": [
       "45"
      ]
     },
     "execution_count": 19,
     "metadata": {},
     "output_type": "execute_result"
    }
   ],
   "source": [
    "srs[1]"
   ]
  },
  {
   "cell_type": "code",
   "execution_count": 22,
   "id": "2ef1368c-a2df-43b6-a45c-603bf486e286",
   "metadata": {},
   "outputs": [
    {
     "name": "stdout",
     "output_type": "stream",
     "text": [
      "<class 'str'>\n",
      "<class 'int'>\n",
      "<class 'bool'>\n",
      "<class 'float'>\n"
     ]
    }
   ],
   "source": [
    "print(type(srs[0]))\n",
    "print(type(srs[1]))\n",
    "print(type(srs[2]))\n",
    "print(type(srs[3]))"
   ]
  },
  {
   "cell_type": "code",
   "execution_count": 23,
   "id": "0f829d8d-2a97-42ad-9f5e-7988dbec8cba",
   "metadata": {},
   "outputs": [
    {
     "data": {
      "text/plain": [
       "0     2\n",
       "1     4\n",
       "2     6\n",
       "3     8\n",
       "4    10\n",
       "5    12\n",
       "6    14\n",
       "dtype: int64"
      ]
     },
     "execution_count": 23,
     "metadata": {},
     "output_type": "execute_result"
    }
   ],
   "source": [
    "test=pd.Series([2,4,6,8,10,12,14])\n",
    "test"
   ]
  },
  {
   "cell_type": "code",
   "execution_count": 36,
   "id": "d81e4c53-4ae3-4d43-a947-a8a58f26cdc2",
   "metadata": {},
   "outputs": [
    {
     "name": "stdout",
     "output_type": "stream",
     "text": [
      "[RangeIndex(start=0, stop=7, step=1)]\n",
      "int64\n",
      "7\n",
      "1\n",
      "\n",
      "0    2\n",
      "1    4\n",
      "2    6\n",
      "dtype: int64\n",
      "4    10\n",
      "5    12\n",
      "6    14\n",
      "dtype: int64\n"
     ]
    }
   ],
   "source": [
    "print(test.axes)\n",
    "print(test.dtype)\n",
    "print(test.size)\n",
    "print(test.ndim)\n",
    "print('')\n",
    "print(test.head(3))\n",
    "print(test.tail(3))"
   ]
  },
  {
   "cell_type": "code",
   "execution_count": 39,
   "id": "6bd355d7-c557-4d8c-9289-174f51ec9176",
   "metadata": {},
   "outputs": [
    {
     "data": {
      "text/plain": [
       "d    10\n",
       "b    20\n",
       "a    30\n",
       "c    40\n",
       "e    50\n",
       "dtype: int64"
      ]
     },
     "execution_count": 39,
     "metadata": {},
     "output_type": "execute_result"
    }
   ],
   "source": [
    "eg=pd.Series([10,20,30,40,50],index=['d','b','a','c','e'])\n",
    "eg"
   ]
  },
  {
   "cell_type": "code",
   "execution_count": 40,
   "id": "ff5da516-ab85-45ef-9d6d-7f0081b6eeae",
   "metadata": {},
   "outputs": [
    {
     "name": "stdout",
     "output_type": "stream",
     "text": [
      "a    30\n",
      "b    20\n",
      "c    40\n",
      "d    10\n",
      "e    50\n",
      "dtype: int64\n"
     ]
    }
   ],
   "source": [
    "print(eg.sort_index())"
   ]
  },
  {
   "cell_type": "code",
   "execution_count": 41,
   "id": "6bd80067-f0eb-4a86-bb7b-67403293e572",
   "metadata": {},
   "outputs": [
    {
     "name": "stdout",
     "output_type": "stream",
     "text": [
      "d    10\n",
      "b    20\n",
      "a    30\n",
      "c    40\n",
      "e    50\n",
      "dtype: int64\n"
     ]
    }
   ],
   "source": [
    "print(eg.sort_values())"
   ]
  },
  {
   "cell_type": "code",
   "execution_count": 45,
   "id": "be556c34-9762-40e6-a06b-60dd5f50b0e0",
   "metadata": {},
   "outputs": [
    {
     "name": "stdout",
     "output_type": "stream",
     "text": [
      "d     True\n",
      "b    False\n",
      "a    False\n",
      "c     True\n",
      "e    False\n",
      "dtype: bool\n"
     ]
    }
   ],
   "source": [
    "print(eg.isin([40,10]))"
   ]
  },
  {
   "cell_type": "code",
   "execution_count": 46,
   "id": "24ff3121-06e8-4778-9efa-a3103bd3f15a",
   "metadata": {},
   "outputs": [
    {
     "data": {
      "text/plain": [
       "d    10\n",
       "c    40\n",
       "dtype: int64"
      ]
     },
     "execution_count": 46,
     "metadata": {},
     "output_type": "execute_result"
    }
   ],
   "source": [
    "eg[eg.isin([40,10])]"
   ]
  },
  {
   "cell_type": "code",
   "execution_count": 48,
   "id": "35a197d6-ea9e-4c67-bdb2-879c652f7d5b",
   "metadata": {},
   "outputs": [
    {
     "data": {
      "text/plain": [
       "array([10, 20, 30, 40, 50], dtype=int64)"
      ]
     },
     "execution_count": 48,
     "metadata": {},
     "output_type": "execute_result"
    }
   ],
   "source": [
    "eg.values"
   ]
  },
  {
   "cell_type": "code",
   "execution_count": 50,
   "id": "e7d2f9fa-a11c-4076-ab1d-0b82e7e45dd0",
   "metadata": {},
   "outputs": [
    {
     "data": {
      "text/plain": [
       "[10, 20, 30, 40, 50]"
      ]
     },
     "execution_count": 50,
     "metadata": {},
     "output_type": "execute_result"
    }
   ],
   "source": [
    "[ i for i in eg.values ]"
   ]
  },
  {
   "cell_type": "code",
   "execution_count": 51,
   "id": "661a1a8c-aabb-4703-8297-8140bea36a34",
   "metadata": {},
   "outputs": [
    {
     "data": {
      "text/plain": [
       "Index(['d', 'b', 'a', 'c', 'e'], dtype='object')"
      ]
     },
     "execution_count": 51,
     "metadata": {},
     "output_type": "execute_result"
    }
   ],
   "source": [
    "eg.index"
   ]
  },
  {
   "cell_type": "code",
   "execution_count": 52,
   "id": "68549925-7bc0-4ec8-939f-150e160d77d8",
   "metadata": {},
   "outputs": [
    {
     "data": {
      "text/plain": [
       "<bound method Series.items of d    10\n",
       "b    20\n",
       "a    30\n",
       "c    40\n",
       "e    50\n",
       "dtype: int64>"
      ]
     },
     "execution_count": 52,
     "metadata": {},
     "output_type": "execute_result"
    }
   ],
   "source": [
    "eg.items"
   ]
  },
  {
   "cell_type": "code",
   "execution_count": 53,
   "id": "558cfbcf-a789-44f7-b4ff-1fbdf07939bb",
   "metadata": {},
   "outputs": [
    {
     "data": {
      "text/plain": [
       "<zip at 0x20eae0354c0>"
      ]
     },
     "execution_count": 53,
     "metadata": {},
     "output_type": "execute_result"
    }
   ],
   "source": [
    "eg.items()"
   ]
  },
  {
   "cell_type": "code",
   "execution_count": 54,
   "id": "1eb8bb90-6b94-47c9-83d3-8d22a690fffe",
   "metadata": {},
   "outputs": [
    {
     "data": {
      "text/plain": [
       "[('d', 10), ('b', 20), ('a', 30), ('c', 40), ('e', 50)]"
      ]
     },
     "execution_count": 54,
     "metadata": {},
     "output_type": "execute_result"
    }
   ],
   "source": [
    "list(eg.items())"
   ]
  },
  {
   "cell_type": "code",
   "execution_count": 55,
   "id": "d1104a84-5365-444e-8cdc-85808d50d390",
   "metadata": {},
   "outputs": [
    {
     "name": "stdout",
     "output_type": "stream",
     "text": [
      "d : 10\n",
      "b : 20\n",
      "a : 30\n",
      "c : 40\n",
      "e : 50\n"
     ]
    }
   ],
   "source": [
    "for i,j in eg.items():\n",
    "    print(i,':',j)"
   ]
  },
  {
   "cell_type": "code",
   "execution_count": 56,
   "id": "8988aad8-728b-4d23-b325-180b6bbe6281",
   "metadata": {},
   "outputs": [
    {
     "data": {
      "text/plain": [
       "USD    134\n",
       "GBP    169\n",
       "INR    1.6\n",
       "AUD     88\n",
       "TBT    3.6\n",
       "EUR    145\n",
       "CAD     97\n",
       "dtype: object"
      ]
     },
     "execution_count": 56,
     "metadata": {},
     "output_type": "execute_result"
    }
   ],
   "source": [
    "test=pd.Series(['134','169','1.6','88','3.6','145','97'],index=['USD','GBP','INR','AUD','TBT','EUR','CAD'])\n",
    "test"
   ]
  },
  {
   "cell_type": "code",
   "execution_count": 58,
   "id": "0009176b-e1f1-41cc-8af9-3ac52773c49e",
   "metadata": {},
   "outputs": [
    {
     "name": "stdout",
     "output_type": "stream",
     "text": [
      "145\n"
     ]
    }
   ],
   "source": [
    "print(test['EUR'])"
   ]
  },
  {
   "cell_type": "code",
   "execution_count": 60,
   "id": "1237bd42-18ad-43e6-953e-315603dd78b7",
   "metadata": {},
   "outputs": [
    {
     "name": "stderr",
     "output_type": "stream",
     "text": [
      "C:\\Users\\Admin\\AppData\\Local\\Temp\\ipykernel_3164\\1228179102.py:1: FutureWarning: Series.__getitem__ treating keys as positions is deprecated. In a future version, integer keys will always be treated as labels (consistent with DataFrame behavior). To access a value by position, use `ser.iloc[pos]`\n",
      "  test[1]\n"
     ]
    },
    {
     "data": {
      "text/plain": [
       "'169'"
      ]
     },
     "execution_count": 60,
     "metadata": {},
     "output_type": "execute_result"
    }
   ],
   "source": [
    "test[1]"
   ]
  },
  {
   "cell_type": "code",
   "execution_count": 62,
   "id": "46a2421e-5b06-4d00-a25c-19476440b9f9",
   "metadata": {},
   "outputs": [
    {
     "data": {
      "text/plain": [
       "GBP    169\n",
       "INR    1.6\n",
       "AUD     88\n",
       "dtype: object"
      ]
     },
     "execution_count": 62,
     "metadata": {},
     "output_type": "execute_result"
    }
   ],
   "source": [
    "test[1:4]"
   ]
  },
  {
   "cell_type": "code",
   "execution_count": 67,
   "id": "2fe7e135-8b92-4366-afa3-25670bc7c981",
   "metadata": {},
   "outputs": [
    {
     "data": {
      "text/plain": [
       "CAD     97\n",
       "EUR    145\n",
       "TBT    3.6\n",
       "AUD     88\n",
       "INR    1.6\n",
       "GBP    169\n",
       "USD    134\n",
       "dtype: object"
      ]
     },
     "execution_count": 67,
     "metadata": {},
     "output_type": "execute_result"
    }
   ],
   "source": [
    "test[::-1]"
   ]
  },
  {
   "cell_type": "code",
   "execution_count": 69,
   "id": "ebf46b34-9a1d-47ec-a2bb-1481596bda9c",
   "metadata": {},
   "outputs": [
    {
     "data": {
      "text/plain": [
       "INR    1.6\n",
       "AUD     88\n",
       "TBT    3.6\n",
       "dtype: object"
      ]
     },
     "execution_count": 69,
     "metadata": {},
     "output_type": "execute_result"
    }
   ],
   "source": [
    "test[2:5:1]"
   ]
  },
  {
   "cell_type": "code",
   "execution_count": null,
   "id": "8b9f6feb-cd61-47ef-a269-5e47d9e75bfe",
   "metadata": {},
   "outputs": [],
   "source": []
  }
 ],
 "metadata": {
  "kernelspec": {
   "display_name": "Python 3 (ipykernel)",
   "language": "python",
   "name": "python3"
  },
  "language_info": {
   "codemirror_mode": {
    "name": "ipython",
    "version": 3
   },
   "file_extension": ".py",
   "mimetype": "text/x-python",
   "name": "python",
   "nbconvert_exporter": "python",
   "pygments_lexer": "ipython3",
   "version": "3.11.7"
  }
 },
 "nbformat": 4,
 "nbformat_minor": 5
}
