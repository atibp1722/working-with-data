{
 "cells": [
  {
   "cell_type": "code",
   "execution_count": 1,
   "id": "8e9beeaa-ed81-4b20-b2aa-7a7afccc04fa",
   "metadata": {},
   "outputs": [],
   "source": [
    "import pandas as pd\n",
    "import numpy as np"
   ]
  },
  {
   "cell_type": "code",
   "execution_count": 2,
   "id": "0de89244-ba07-483b-a12c-4116a80f36af",
   "metadata": {},
   "outputs": [
    {
     "data": {
      "text/html": [
       "<div>\n",
       "<style scoped>\n",
       "    .dataframe tbody tr th:only-of-type {\n",
       "        vertical-align: middle;\n",
       "    }\n",
       "\n",
       "    .dataframe tbody tr th {\n",
       "        vertical-align: top;\n",
       "    }\n",
       "\n",
       "    .dataframe thead th {\n",
       "        text-align: right;\n",
       "    }\n",
       "</style>\n",
       "<table border=\"1\" class=\"dataframe\">\n",
       "  <thead>\n",
       "    <tr style=\"text-align: right;\">\n",
       "      <th></th>\n",
       "      <th>datapoints</th>\n",
       "      <th>xplot</th>\n",
       "      <th>yplot</th>\n",
       "    </tr>\n",
       "  </thead>\n",
       "  <tbody>\n",
       "    <tr>\n",
       "      <th>0</th>\n",
       "      <td>A</td>\n",
       "      <td>5</td>\n",
       "      <td>67</td>\n",
       "    </tr>\n",
       "    <tr>\n",
       "      <th>1</th>\n",
       "      <td>B</td>\n",
       "      <td>18</td>\n",
       "      <td>98</td>\n",
       "    </tr>\n",
       "    <tr>\n",
       "      <th>2</th>\n",
       "      <td>C</td>\n",
       "      <td>7</td>\n",
       "      <td>123</td>\n",
       "    </tr>\n",
       "    <tr>\n",
       "      <th>3</th>\n",
       "      <td>D</td>\n",
       "      <td>14</td>\n",
       "      <td>97</td>\n",
       "    </tr>\n",
       "    <tr>\n",
       "      <th>4</th>\n",
       "      <td>A</td>\n",
       "      <td>67</td>\n",
       "      <td>234</td>\n",
       "    </tr>\n",
       "    <tr>\n",
       "      <th>5</th>\n",
       "      <td>B</td>\n",
       "      <td>32</td>\n",
       "      <td>65</td>\n",
       "    </tr>\n",
       "    <tr>\n",
       "      <th>6</th>\n",
       "      <td>C</td>\n",
       "      <td>6</td>\n",
       "      <td>199</td>\n",
       "    </tr>\n",
       "    <tr>\n",
       "      <th>7</th>\n",
       "      <td>D</td>\n",
       "      <td>20</td>\n",
       "      <td>200</td>\n",
       "    </tr>\n",
       "  </tbody>\n",
       "</table>\n",
       "</div>"
      ],
      "text/plain": [
       "  datapoints  xplot  yplot\n",
       "0          A      5     67\n",
       "1          B     18     98\n",
       "2          C      7    123\n",
       "3          D     14     97\n",
       "4          A     67    234\n",
       "5          B     32     65\n",
       "6          C      6    199\n",
       "7          D     20    200"
      ]
     },
     "execution_count": 2,
     "metadata": {},
     "output_type": "execute_result"
    }
   ],
   "source": [
    "df=pd.DataFrame({'datapoints':['A','B','C','D','A','B','C','D'],\n",
    "                'xplot':[5,18,7,14,67,32,6,20],\n",
    "                'yplot':[67,98,123,97,234,65,199,200]})\n",
    "df"
   ]
  },
  {
   "cell_type": "markdown",
   "id": "0c357184-c61c-42f4-9ac7-3dfa0541da00",
   "metadata": {},
   "source": [
    "# Transforming"
   ]
  },
  {
   "cell_type": "code",
   "execution_count": 3,
   "id": "e3f14f0d-2ddf-4b89-8be2-dc652929c62c",
   "metadata": {},
   "outputs": [
    {
     "data": {
      "text/html": [
       "<div>\n",
       "<style scoped>\n",
       "    .dataframe tbody tr th:only-of-type {\n",
       "        vertical-align: middle;\n",
       "    }\n",
       "\n",
       "    .dataframe tbody tr th {\n",
       "        vertical-align: top;\n",
       "    }\n",
       "\n",
       "    .dataframe thead th {\n",
       "        text-align: right;\n",
       "    }\n",
       "</style>\n",
       "<table border=\"1\" class=\"dataframe\">\n",
       "  <thead>\n",
       "    <tr style=\"text-align: right;\">\n",
       "      <th></th>\n",
       "      <th>xplot</th>\n",
       "      <th>yplot</th>\n",
       "    </tr>\n",
       "  </thead>\n",
       "  <tbody>\n",
       "    <tr>\n",
       "      <th>0</th>\n",
       "      <td>5</td>\n",
       "      <td>67</td>\n",
       "    </tr>\n",
       "    <tr>\n",
       "      <th>1</th>\n",
       "      <td>18</td>\n",
       "      <td>98</td>\n",
       "    </tr>\n",
       "    <tr>\n",
       "      <th>2</th>\n",
       "      <td>7</td>\n",
       "      <td>123</td>\n",
       "    </tr>\n",
       "    <tr>\n",
       "      <th>3</th>\n",
       "      <td>14</td>\n",
       "      <td>97</td>\n",
       "    </tr>\n",
       "    <tr>\n",
       "      <th>4</th>\n",
       "      <td>67</td>\n",
       "      <td>234</td>\n",
       "    </tr>\n",
       "    <tr>\n",
       "      <th>5</th>\n",
       "      <td>32</td>\n",
       "      <td>65</td>\n",
       "    </tr>\n",
       "    <tr>\n",
       "      <th>6</th>\n",
       "      <td>6</td>\n",
       "      <td>199</td>\n",
       "    </tr>\n",
       "    <tr>\n",
       "      <th>7</th>\n",
       "      <td>20</td>\n",
       "      <td>200</td>\n",
       "    </tr>\n",
       "  </tbody>\n",
       "</table>\n",
       "</div>"
      ],
      "text/plain": [
       "   xplot  yplot\n",
       "0      5     67\n",
       "1     18     98\n",
       "2      7    123\n",
       "3     14     97\n",
       "4     67    234\n",
       "5     32     65\n",
       "6      6    199\n",
       "7     20    200"
      ]
     },
     "execution_count": 3,
     "metadata": {},
     "output_type": "execute_result"
    }
   ],
   "source": [
    "df1=df.loc[:,'xplot':'yplot']\n",
    "df1"
   ]
  },
  {
   "cell_type": "code",
   "execution_count": 4,
   "id": "1c3c8e49-abbc-4a93-89b4-916654686fdf",
   "metadata": {},
   "outputs": [
    {
     "data": {
      "text/html": [
       "<div>\n",
       "<style scoped>\n",
       "    .dataframe tbody tr th:only-of-type {\n",
       "        vertical-align: middle;\n",
       "    }\n",
       "\n",
       "    .dataframe tbody tr th {\n",
       "        vertical-align: top;\n",
       "    }\n",
       "\n",
       "    .dataframe thead th {\n",
       "        text-align: right;\n",
       "    }\n",
       "</style>\n",
       "<table border=\"1\" class=\"dataframe\">\n",
       "  <thead>\n",
       "    <tr style=\"text-align: right;\">\n",
       "      <th></th>\n",
       "      <th>xplot</th>\n",
       "      <th>yplot</th>\n",
       "    </tr>\n",
       "  </thead>\n",
       "  <tbody>\n",
       "    <tr>\n",
       "      <th>0</th>\n",
       "      <td>0.000000</td>\n",
       "      <td>0.011834</td>\n",
       "    </tr>\n",
       "    <tr>\n",
       "      <th>1</th>\n",
       "      <td>0.209677</td>\n",
       "      <td>0.195266</td>\n",
       "    </tr>\n",
       "    <tr>\n",
       "      <th>2</th>\n",
       "      <td>0.032258</td>\n",
       "      <td>0.343195</td>\n",
       "    </tr>\n",
       "    <tr>\n",
       "      <th>3</th>\n",
       "      <td>0.145161</td>\n",
       "      <td>0.189349</td>\n",
       "    </tr>\n",
       "    <tr>\n",
       "      <th>4</th>\n",
       "      <td>1.000000</td>\n",
       "      <td>1.000000</td>\n",
       "    </tr>\n",
       "    <tr>\n",
       "      <th>5</th>\n",
       "      <td>0.435484</td>\n",
       "      <td>0.000000</td>\n",
       "    </tr>\n",
       "    <tr>\n",
       "      <th>6</th>\n",
       "      <td>0.016129</td>\n",
       "      <td>0.792899</td>\n",
       "    </tr>\n",
       "    <tr>\n",
       "      <th>7</th>\n",
       "      <td>0.241935</td>\n",
       "      <td>0.798817</td>\n",
       "    </tr>\n",
       "  </tbody>\n",
       "</table>\n",
       "</div>"
      ],
      "text/plain": [
       "      xplot     yplot\n",
       "0  0.000000  0.011834\n",
       "1  0.209677  0.195266\n",
       "2  0.032258  0.343195\n",
       "3  0.145161  0.189349\n",
       "4  1.000000  1.000000\n",
       "5  0.435484  0.000000\n",
       "6  0.016129  0.792899\n",
       "7  0.241935  0.798817"
      ]
     },
     "execution_count": 4,
     "metadata": {},
     "output_type": "execute_result"
    }
   ],
   "source": [
    "def normalise(x):\n",
    "    return (x-x.min())/(x.max()-x.min())\n",
    "\n",
    "df1.transform(normalise)"
   ]
  },
  {
   "cell_type": "code",
   "execution_count": 8,
   "id": "f897343a-1dfd-434f-9312-f4dc1033e63b",
   "metadata": {},
   "outputs": [
    {
     "data": {
      "text/plain": [
       "18"
      ]
     },
     "execution_count": 8,
     "metadata": {},
     "output_type": "execute_result"
    }
   ],
   "source": [
    "df1.loc[1,'xplot']"
   ]
  },
  {
   "cell_type": "code",
   "execution_count": 7,
   "id": "8404cd22-19a4-4f48-ac14-906a77e848c8",
   "metadata": {},
   "outputs": [
    {
     "data": {
      "text/plain": [
       "0.20967741935483872"
      ]
     },
     "execution_count": 7,
     "metadata": {},
     "output_type": "execute_result"
    }
   ],
   "source": [
    "(df.loc[1,'xplot']-df['xplot'].min())/(df['xplot'].max()-df['xplot'].min())"
   ]
  },
  {
   "cell_type": "code",
   "execution_count": 10,
   "id": "3ce04441-1375-44b9-94de-27671c6063c6",
   "metadata": {},
   "outputs": [
    {
     "data": {
      "text/html": [
       "<div>\n",
       "<style scoped>\n",
       "    .dataframe tbody tr th:only-of-type {\n",
       "        vertical-align: middle;\n",
       "    }\n",
       "\n",
       "    .dataframe tbody tr th {\n",
       "        vertical-align: top;\n",
       "    }\n",
       "\n",
       "    .dataframe thead th {\n",
       "        text-align: right;\n",
       "    }\n",
       "</style>\n",
       "<table border=\"1\" class=\"dataframe\">\n",
       "  <thead>\n",
       "    <tr style=\"text-align: right;\">\n",
       "      <th></th>\n",
       "      <th>xplot</th>\n",
       "      <th>yplot</th>\n",
       "    </tr>\n",
       "  </thead>\n",
       "  <tbody>\n",
       "    <tr>\n",
       "      <th>0</th>\n",
       "      <td>-0.958924</td>\n",
       "      <td>-0.855520</td>\n",
       "    </tr>\n",
       "    <tr>\n",
       "      <th>1</th>\n",
       "      <td>-0.750987</td>\n",
       "      <td>-0.573382</td>\n",
       "    </tr>\n",
       "    <tr>\n",
       "      <th>2</th>\n",
       "      <td>0.656987</td>\n",
       "      <td>-0.459903</td>\n",
       "    </tr>\n",
       "    <tr>\n",
       "      <th>3</th>\n",
       "      <td>0.990607</td>\n",
       "      <td>0.379608</td>\n",
       "    </tr>\n",
       "    <tr>\n",
       "      <th>4</th>\n",
       "      <td>-0.855520</td>\n",
       "      <td>0.998817</td>\n",
       "    </tr>\n",
       "    <tr>\n",
       "      <th>5</th>\n",
       "      <td>0.551427</td>\n",
       "      <td>0.826829</td>\n",
       "    </tr>\n",
       "    <tr>\n",
       "      <th>6</th>\n",
       "      <td>-0.279415</td>\n",
       "      <td>-0.881799</td>\n",
       "    </tr>\n",
       "    <tr>\n",
       "      <th>7</th>\n",
       "      <td>0.912945</td>\n",
       "      <td>-0.873297</td>\n",
       "    </tr>\n",
       "  </tbody>\n",
       "</table>\n",
       "</div>"
      ],
      "text/plain": [
       "      xplot     yplot\n",
       "0 -0.958924 -0.855520\n",
       "1 -0.750987 -0.573382\n",
       "2  0.656987 -0.459903\n",
       "3  0.990607  0.379608\n",
       "4 -0.855520  0.998817\n",
       "5  0.551427  0.826829\n",
       "6 -0.279415 -0.881799\n",
       "7  0.912945 -0.873297"
      ]
     },
     "execution_count": 10,
     "metadata": {},
     "output_type": "execute_result"
    }
   ],
   "source": [
    "df1.transform(lambda a:np.sin(a))"
   ]
  },
  {
   "cell_type": "code",
   "execution_count": 11,
   "id": "680a803c-48d9-4502-bc03-384d2f1d75ac",
   "metadata": {},
   "outputs": [
    {
     "data": {
      "text/plain": [
       "0   -0.855520\n",
       "1   -0.573382\n",
       "2   -0.459903\n",
       "3    0.379608\n",
       "4    0.998817\n",
       "5    0.826829\n",
       "6   -0.881799\n",
       "7   -0.873297\n",
       "Name: yplot, dtype: float64"
      ]
     },
     "execution_count": 11,
     "metadata": {},
     "output_type": "execute_result"
    }
   ],
   "source": [
    "np.sin(df1.yplot)"
   ]
  },
  {
   "cell_type": "markdown",
   "id": "65323495-5984-4909-b948-2a3cf6de9c46",
   "metadata": {},
   "source": [
    "# Applying"
   ]
  },
  {
   "cell_type": "code",
   "execution_count": 12,
   "id": "041dc71c-5ea7-44fa-892d-da7cab4d748b",
   "metadata": {},
   "outputs": [
    {
     "data": {
      "text/plain": [
       "datapoints    ABCDABCD\n",
       "xplot              169\n",
       "yplot             1083\n",
       "dtype: object"
      ]
     },
     "execution_count": 12,
     "metadata": {},
     "output_type": "execute_result"
    }
   ],
   "source": [
    "df.apply(np.sum)"
   ]
  },
  {
   "cell_type": "code",
   "execution_count": 22,
   "id": "a502d7c7-c48e-429d-b538-dfa3f335d973",
   "metadata": {},
   "outputs": [
    {
     "data": {
      "text/html": [
       "<div>\n",
       "<style scoped>\n",
       "    .dataframe tbody tr th:only-of-type {\n",
       "        vertical-align: middle;\n",
       "    }\n",
       "\n",
       "    .dataframe tbody tr th {\n",
       "        vertical-align: top;\n",
       "    }\n",
       "\n",
       "    .dataframe thead th {\n",
       "        text-align: right;\n",
       "    }\n",
       "</style>\n",
       "<table border=\"1\" class=\"dataframe\">\n",
       "  <thead>\n",
       "    <tr style=\"text-align: right;\">\n",
       "      <th></th>\n",
       "      <th>xplot</th>\n",
       "      <th>yplot</th>\n",
       "    </tr>\n",
       "  </thead>\n",
       "  <tbody>\n",
       "    <tr>\n",
       "      <th>0</th>\n",
       "      <td>5</td>\n",
       "      <td>67</td>\n",
       "    </tr>\n",
       "    <tr>\n",
       "      <th>1</th>\n",
       "      <td>18</td>\n",
       "      <td>98</td>\n",
       "    </tr>\n",
       "    <tr>\n",
       "      <th>2</th>\n",
       "      <td>7</td>\n",
       "      <td>123</td>\n",
       "    </tr>\n",
       "    <tr>\n",
       "      <th>3</th>\n",
       "      <td>14</td>\n",
       "      <td>97</td>\n",
       "    </tr>\n",
       "    <tr>\n",
       "      <th>4</th>\n",
       "      <td>67</td>\n",
       "      <td>234</td>\n",
       "    </tr>\n",
       "    <tr>\n",
       "      <th>5</th>\n",
       "      <td>32</td>\n",
       "      <td>65</td>\n",
       "    </tr>\n",
       "    <tr>\n",
       "      <th>6</th>\n",
       "      <td>6</td>\n",
       "      <td>199</td>\n",
       "    </tr>\n",
       "    <tr>\n",
       "      <th>7</th>\n",
       "      <td>20</td>\n",
       "      <td>200</td>\n",
       "    </tr>\n",
       "  </tbody>\n",
       "</table>\n",
       "</div>"
      ],
      "text/plain": [
       "   xplot  yplot\n",
       "0      5     67\n",
       "1     18     98\n",
       "2      7    123\n",
       "3     14     97\n",
       "4     67    234\n",
       "5     32     65\n",
       "6      6    199\n",
       "7     20    200"
      ]
     },
     "execution_count": 22,
     "metadata": {},
     "output_type": "execute_result"
    }
   ],
   "source": [
    "df2=df.loc[:,'xplot':'yplot']\n",
    "df2"
   ]
  },
  {
   "cell_type": "code",
   "execution_count": 23,
   "id": "2f257f4e-4c26-4896-b188-83ec34808bbb",
   "metadata": {},
   "outputs": [
    {
     "data": {
      "text/plain": [
       "xplot     21.125\n",
       "yplot    135.375\n",
       "dtype: float64"
      ]
     },
     "execution_count": 23,
     "metadata": {},
     "output_type": "execute_result"
    }
   ],
   "source": [
    "df2.apply(np.mean)"
   ]
  },
  {
   "cell_type": "code",
   "execution_count": 27,
   "id": "5b995368-b2e9-46d3-8c07-72412652f2a4",
   "metadata": {},
   "outputs": [
    {
     "data": {
      "text/plain": [
       "0     36.0\n",
       "1     58.0\n",
       "2     65.0\n",
       "3     55.5\n",
       "4    150.5\n",
       "5     48.5\n",
       "6    102.5\n",
       "7    110.0\n",
       "dtype: float64"
      ]
     },
     "execution_count": 27,
     "metadata": {},
     "output_type": "execute_result"
    }
   ],
   "source": [
    "df2.apply(np.mean,axis=1)"
   ]
  },
  {
   "cell_type": "code",
   "execution_count": 24,
   "id": "dcf24263-a4a2-42d6-b434-88f041e30d13",
   "metadata": {},
   "outputs": [
    {
     "data": {
      "text/plain": [
       "xplot     16.0\n",
       "yplot    110.5\n",
       "dtype: float64"
      ]
     },
     "execution_count": 24,
     "metadata": {},
     "output_type": "execute_result"
    }
   ],
   "source": [
    "df2.apply(np.median)"
   ]
  },
  {
   "cell_type": "code",
   "execution_count": 25,
   "id": "e60e9d45-e664-4c59-9168-97e5df503749",
   "metadata": {},
   "outputs": [
    {
     "data": {
      "text/plain": [
       "xplot    19.277172\n",
       "yplot    61.848479\n",
       "dtype: float64"
      ]
     },
     "execution_count": 25,
     "metadata": {},
     "output_type": "execute_result"
    }
   ],
   "source": [
    "df2.apply(np.std)"
   ]
  },
  {
   "cell_type": "code",
   "execution_count": 26,
   "id": "9d749708-4775-4f03-b0d6-42b6885d387f",
   "metadata": {},
   "outputs": [
    {
     "data": {
      "text/plain": [
       "xplot     371.609375\n",
       "yplot    3825.234375\n",
       "dtype: float64"
      ]
     },
     "execution_count": 26,
     "metadata": {},
     "output_type": "execute_result"
    }
   ],
   "source": [
    "df2.apply(np.var)"
   ]
  },
  {
   "cell_type": "code",
   "execution_count": 29,
   "id": "d133760e-1af1-4b50-88fe-6311f774dd9d",
   "metadata": {},
   "outputs": [
    {
     "data": {
      "text/plain": [
       "datapoints\n",
       "A    93.25\n",
       "B    53.25\n",
       "C    83.75\n",
       "D    82.75\n",
       "dtype: float64"
      ]
     },
     "execution_count": 29,
     "metadata": {},
     "output_type": "execute_result"
    }
   ],
   "source": [
    "df.groupby('datapoints').apply(np.mean)"
   ]
  },
  {
   "cell_type": "code",
   "execution_count": null,
   "id": "5482cdc6-1932-4e3e-a7de-70de28430c4e",
   "metadata": {},
   "outputs": [],
   "source": []
  }
 ],
 "metadata": {
  "kernelspec": {
   "display_name": "Python 3 (ipykernel)",
   "language": "python",
   "name": "python3"
  },
  "language_info": {
   "codemirror_mode": {
    "name": "ipython",
    "version": 3
   },
   "file_extension": ".py",
   "mimetype": "text/x-python",
   "name": "python",
   "nbconvert_exporter": "python",
   "pygments_lexer": "ipython3",
   "version": "3.11.7"
  }
 },
 "nbformat": 4,
 "nbformat_minor": 5
}
