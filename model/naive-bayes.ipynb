{
 "cells": [
  {
   "cell_type": "markdown",
   "id": "c554e3ae-f7e2-425e-9238-e48949f5f3af",
   "metadata": {},
   "source": [
    "Classfication algorithm based on Bayes' theorem\n",
    "\n",
    "Describes the probablity of an event occuring based on conditions\n",
    "\n",
    "Conditions must be related to the event\n",
    "\n",
    "Built by assigning labels to instances, which are represented as vectors of features\n",
    "\n",
    "Assumes that value of any feature is independent to value of any other features (independence assumption)\n",
    "\n",
    "Algorithm takes into consideration the features independently before giving the probability as an outcome, do not consider \n",
    "correlations that may occur between the features\n",
    "\n",
    "P(A happening if B happens)=P(B happens if A happens).P(A happens independently) / P(B happens independently)\n",
    "\n",
    "P(A|B)=[P(B|A).P(A)/P(B)]"
   ]
  },
  {
   "cell_type": "code",
   "execution_count": 18,
   "id": "d5f79c15-c17c-4b12-b2c1-74ad6051f589",
   "metadata": {},
   "outputs": [],
   "source": [
    "import numpy as np\n",
    "import pandas as pd\n",
    "import matplotlib.pyplot as plt"
   ]
  },
  {
   "cell_type": "code",
   "execution_count": 19,
   "id": "9ba30314-0fb4-4b9a-9615-274eb867c99f",
   "metadata": {},
   "outputs": [
    {
     "data": {
      "text/html": [
       "<div>\n",
       "<style scoped>\n",
       "    .dataframe tbody tr th:only-of-type {\n",
       "        vertical-align: middle;\n",
       "    }\n",
       "\n",
       "    .dataframe tbody tr th {\n",
       "        vertical-align: top;\n",
       "    }\n",
       "\n",
       "    .dataframe thead th {\n",
       "        text-align: right;\n",
       "    }\n",
       "</style>\n",
       "<table border=\"1\" class=\"dataframe\">\n",
       "  <thead>\n",
       "    <tr style=\"text-align: right;\">\n",
       "      <th></th>\n",
       "      <th>Outlook</th>\n",
       "      <th>Temperature</th>\n",
       "      <th>Humidity</th>\n",
       "      <th>Windy</th>\n",
       "      <th>Play</th>\n",
       "    </tr>\n",
       "  </thead>\n",
       "  <tbody>\n",
       "    <tr>\n",
       "      <th>0</th>\n",
       "      <td>sunny</td>\n",
       "      <td>hot</td>\n",
       "      <td>high</td>\n",
       "      <td>F</td>\n",
       "      <td>no</td>\n",
       "    </tr>\n",
       "    <tr>\n",
       "      <th>1</th>\n",
       "      <td>sunny</td>\n",
       "      <td>hot</td>\n",
       "      <td>high</td>\n",
       "      <td>T</td>\n",
       "      <td>no</td>\n",
       "    </tr>\n",
       "    <tr>\n",
       "      <th>2</th>\n",
       "      <td>overcast</td>\n",
       "      <td>hot</td>\n",
       "      <td>high</td>\n",
       "      <td>F</td>\n",
       "      <td>yes</td>\n",
       "    </tr>\n",
       "    <tr>\n",
       "      <th>3</th>\n",
       "      <td>rainy</td>\n",
       "      <td>mild</td>\n",
       "      <td>high</td>\n",
       "      <td>F</td>\n",
       "      <td>yes</td>\n",
       "    </tr>\n",
       "    <tr>\n",
       "      <th>4</th>\n",
       "      <td>rainy</td>\n",
       "      <td>cool</td>\n",
       "      <td>normal</td>\n",
       "      <td>F</td>\n",
       "      <td>yes</td>\n",
       "    </tr>\n",
       "  </tbody>\n",
       "</table>\n",
       "</div>"
      ],
      "text/plain": [
       "    Outlook Temperature Humidity Windy Play\n",
       "0     sunny         hot     high     F   no\n",
       "1     sunny         hot     high     T   no\n",
       "2  overcast         hot     high     F  yes\n",
       "3     rainy        mild     high     F  yes\n",
       "4     rainy        cool   normal     F  yes"
      ]
     },
     "execution_count": 19,
     "metadata": {},
     "output_type": "execute_result"
    }
   ],
   "source": [
    "df=pd.read_csv('play.csv')\n",
    "df.head()"
   ]
  },
  {
   "cell_type": "code",
   "execution_count": 20,
   "id": "55077638-af42-4130-9b2e-6487345f14b4",
   "metadata": {},
   "outputs": [
    {
     "name": "stdout",
     "output_type": "stream",
     "text": [
      "    Outlook Temperature Humidity Windy\n",
      "0     sunny         hot     high     F\n",
      "1     sunny         hot     high     T\n",
      "2  overcast         hot     high     F\n",
      "3     rainy        mild     high     F\n",
      "4     rainy        cool   normal     F\n",
      "0     no\n",
      "1     no\n",
      "2    yes\n",
      "3    yes\n",
      "4    yes\n",
      "Name: Play, dtype: object\n"
     ]
    }
   ],
   "source": [
    "#Separating data from the dataset into features and outcome\n",
    "X=df.drop([df.columns[-1]],axis=1)\n",
    "Y=df[df.columns[-1]]\n",
    "print(X.head())\n",
    "print(Y.head())"
   ]
  },
  {
   "cell_type": "code",
   "execution_count": 21,
   "id": "64067c5f-f421-45e4-95b4-53e5e9ca6131",
   "metadata": {},
   "outputs": [
    {
     "data": {
      "text/plain": [
       "['Outlook', 'Temperature', 'Humidity', 'Windy']"
      ]
     },
     "execution_count": 21,
     "metadata": {},
     "output_type": "execute_result"
    }
   ],
   "source": [
    "feature=list(X.columns)\n",
    "feature"
   ]
  },
  {
   "cell_type": "code",
   "execution_count": 22,
   "id": "2612cd63-faad-447c-850f-5cc43341cd4e",
   "metadata": {},
   "outputs": [],
   "source": [
    "#Data to train the model,and number of features for the model\n",
    "X_train=X\n",
    "Y_train=Y\n",
    "train_size=X.shape[0]\n",
    "num_features=X.shape[1]"
   ]
  },
  {
   "cell_type": "code",
   "execution_count": 23,
   "id": "4bbdde7d-2dec-4be0-ad64-afec5a5f08f1",
   "metadata": {},
   "outputs": [
    {
     "name": "stdout",
     "output_type": "stream",
     "text": [
      "14\n",
      "4\n"
     ]
    }
   ],
   "source": [
    "print(train_size)\n",
    "print(num_features)"
   ]
  },
  {
   "cell_type": "code",
   "execution_count": 24,
   "id": "9f386ab5-b15b-448c-8706-891bd4a54b43",
   "metadata": {},
   "outputs": [],
   "source": [
    "#Probability of event occuring\n",
    "likelihood={}\n",
    "#Starting point for the prediction\n",
    "class_prior={}\n",
    "#Probability of outcome based on avaialble data\n",
    "pred_prior={}"
   ]
  },
  {
   "cell_type": "code",
   "execution_count": 25,
   "id": "4c084a23-29d0-492d-8fba-770fa1c88bdc",
   "metadata": {},
   "outputs": [],
   "source": [
    "for i in feature:\n",
    "    likelihood[i]={}\n",
    "    pred_prior[i]={}\n",
    "\n",
    "    #Get unique feature for each feature column\n",
    "    for fval in np.unique(X_train[i]):\n",
    "        #Initialize value to 0\n",
    "        pred_prior[i].update({fval:0})\n",
    "\n",
    "        #Unique results from training column\n",
    "        for k in np.unique(Y_train):\n",
    "            likelihood[i].update({fval+'_'+k:0})\n",
    "            class_prior.update({k:0})"
   ]
  },
  {
   "cell_type": "code",
   "execution_count": 26,
   "id": "68730c63-af4f-4dd5-b620-597e474f14b2",
   "metadata": {},
   "outputs": [
    {
     "name": "stdout",
     "output_type": "stream",
     "text": [
      "{'Outlook': {'overcast_no': 0, 'overcast_yes': 0, 'rainy_no': 0, 'rainy_yes': 0, 'sunny_no': 0, 'sunny_yes': 0}, 'Temperature': {'cool_no': 0, 'cool_yes': 0, 'hot_no': 0, 'hot_yes': 0, 'mild_no': 0, 'mild_yes': 0}, 'Humidity': {'high_no': 0, 'high_yes': 0, 'normal_no': 0, 'normal_yes': 0}, 'Windy': {'F_no': 0, 'F_yes': 0, 'T_no': 0, 'T_yes': 0}}\n",
      "\n",
      "{'Outlook': {'overcast': 0, 'rainy': 0, 'sunny': 0}, 'Temperature': {'cool': 0, 'hot': 0, 'mild': 0}, 'Humidity': {'high': 0, 'normal': 0}, 'Windy': {'F': 0, 'T': 0}}\n",
      "\n",
      "{'no': 0, 'yes': 0}\n"
     ]
    }
   ],
   "source": [
    "print(likelihood)\n",
    "print('')\n",
    "print(pred_prior)\n",
    "print('')\n",
    "print(class_prior)"
   ]
  },
  {
   "cell_type": "code",
   "execution_count": 27,
   "id": "8d47a72e-d1d0-478f-ad05-26c2d61e2cd1",
   "metadata": {},
   "outputs": [],
   "source": [
    "for i in np.unique(Y_train):\n",
    "    count=sum(Y_train==i)\n",
    "    class_prior[i]=count/train_size"
   ]
  },
  {
   "cell_type": "code",
   "execution_count": 28,
   "id": "c67d9636-bd5f-4615-96e9-88df9c750e8c",
   "metadata": {},
   "outputs": [
    {
     "data": {
      "text/plain": [
       "{'no': 0.35714285714285715, 'yes': 0.6428571428571429}"
      ]
     },
     "execution_count": 28,
     "metadata": {},
     "output_type": "execute_result"
    }
   ],
   "source": [
    "class_prior"
   ]
  },
  {
   "cell_type": "code",
   "execution_count": 29,
   "id": "4ad71933-86b4-4950-9977-0685729a5939",
   "metadata": {},
   "outputs": [
    {
     "name": "stdout",
     "output_type": "stream",
     "text": [
      "{'sunny': 3, 'rainy': 2}\n",
      "{'overcast': 4, 'rainy': 3, 'sunny': 2}\n",
      "{'hot': 2, 'mild': 2, 'cool': 1}\n",
      "{'mild': 4, 'cool': 3, 'hot': 2}\n",
      "{'high': 4, 'normal': 1}\n",
      "{'normal': 6, 'high': 3}\n",
      "{'T': 3, 'F': 2}\n",
      "{'F': 6, 'T': 3}\n"
     ]
    }
   ],
   "source": [
    "for i in feature:\n",
    "    for j in np.unique(Y_train):\n",
    "        ocount=sum(Y_train==j)\n",
    "        likelihood1=X_train[i][Y_train[Y_train==j].index.values.tolist()].value_counts().to_dict()\n",
    "        print(likelihood1)\n",
    "        for fval,cnt in likelihood1.items():\n",
    "            likelihood[i][fval+'_'+j]=cnt/ocount"
   ]
  },
  {
   "cell_type": "code",
   "execution_count": 30,
   "id": "9d13196b-78b1-4dde-a456-f3ecb8032e0f",
   "metadata": {},
   "outputs": [
    {
     "data": {
      "text/plain": [
       "{'Outlook': {'overcast_no': 0,\n",
       "  'overcast_yes': 0.4444444444444444,\n",
       "  'rainy_no': 0.4,\n",
       "  'rainy_yes': 0.3333333333333333,\n",
       "  'sunny_no': 0.6,\n",
       "  'sunny_yes': 0.2222222222222222},\n",
       " 'Temperature': {'cool_no': 0.2,\n",
       "  'cool_yes': 0.3333333333333333,\n",
       "  'hot_no': 0.4,\n",
       "  'hot_yes': 0.2222222222222222,\n",
       "  'mild_no': 0.4,\n",
       "  'mild_yes': 0.4444444444444444},\n",
       " 'Humidity': {'high_no': 0.8,\n",
       "  'high_yes': 0.3333333333333333,\n",
       "  'normal_no': 0.2,\n",
       "  'normal_yes': 0.6666666666666666},\n",
       " 'Windy': {'F_no': 0.4,\n",
       "  'F_yes': 0.6666666666666666,\n",
       "  'T_no': 0.6,\n",
       "  'T_yes': 0.3333333333333333}}"
      ]
     },
     "execution_count": 30,
     "metadata": {},
     "output_type": "execute_result"
    }
   ],
   "source": [
    "likelihood"
   ]
  },
  {
   "cell_type": "code",
   "execution_count": 31,
   "id": "eefd7aa6-eb82-429d-8e73-11d4c9f25a1e",
   "metadata": {},
   "outputs": [
    {
     "name": "stdout",
     "output_type": "stream",
     "text": [
      "{'sunny': 5, 'rainy': 5, 'overcast': 4}\n",
      "{'mild': 6, 'hot': 4, 'cool': 4}\n",
      "{'high': 7, 'normal': 7}\n",
      "{'F': 8, 'T': 6}\n"
     ]
    }
   ],
   "source": [
    "for i in feature:\n",
    "    fvals=X_train[i].value_counts().to_dict()\n",
    "    print(fvals)\n",
    "    for fval,cnt in fvals.items():\n",
    "        pred_prior[i][fval]=cnt/train_size"
   ]
  },
  {
   "cell_type": "code",
   "execution_count": 32,
   "id": "e19fc790-73ee-46e8-8273-ae08c230e251",
   "metadata": {},
   "outputs": [
    {
     "data": {
      "text/plain": [
       "{'Outlook': {'overcast': 0.2857142857142857,\n",
       "  'rainy': 0.35714285714285715,\n",
       "  'sunny': 0.35714285714285715},\n",
       " 'Temperature': {'cool': 0.2857142857142857,\n",
       "  'hot': 0.2857142857142857,\n",
       "  'mild': 0.42857142857142855},\n",
       " 'Humidity': {'high': 0.5, 'normal': 0.5},\n",
       " 'Windy': {'F': 0.5714285714285714, 'T': 0.42857142857142855}}"
      ]
     },
     "execution_count": 32,
     "metadata": {},
     "output_type": "execute_result"
    }
   ],
   "source": [
    "pred_prior"
   ]
  },
  {
   "cell_type": "code",
   "execution_count": 33,
   "id": "055c9dc4-e661-4d66-8171-7acae7ac44db",
   "metadata": {},
   "outputs": [
    {
     "name": "stdout",
     "output_type": "stream",
     "text": [
      "{'no': 0.20906666666666676, 'yes': 0.6452674897119342}\n",
      "['yes']\n"
     ]
    }
   ],
   "source": [
    "final=[]\n",
    "col=np.array([['rainy','mild','normal','T']])\n",
    "col=np.array(col)\n",
    "m=0\n",
    "p=0\n",
    "for i in col:\n",
    "    result={}\n",
    "    for j in np.unique(Y_train):\n",
    "        prior=class_prior[j]\n",
    "        lkl=1\n",
    "        evidence=1\n",
    "\n",
    "        for f,fval in zip(feature,i):\n",
    "            lkl*=likelihood[f][fval+'_'+j]\n",
    "            evidence*=pred_prior[f][fval]\n",
    "        post=(lkl*prior+m*p)/(evidence+m)\n",
    "        result[j]=post\n",
    "    print(result)\n",
    "    rsl=max(result,key=lambda x:result[x])\n",
    "    final.append(rsl)\n",
    "print(final)"
   ]
  },
  {
   "cell_type": "code",
   "execution_count": null,
   "id": "d452f346-ceb0-4d5a-a5f0-ba789f6f478b",
   "metadata": {},
   "outputs": [],
   "source": []
  },
  {
   "cell_type": "code",
   "execution_count": null,
   "id": "585e6acf-97cd-4a23-aae7-085e31ca9d05",
   "metadata": {},
   "outputs": [],
   "source": []
  }
 ],
 "metadata": {
  "kernelspec": {
   "display_name": "Python 3 (ipykernel)",
   "language": "python",
   "name": "python3"
  },
  "language_info": {
   "codemirror_mode": {
    "name": "ipython",
    "version": 3
   },
   "file_extension": ".py",
   "mimetype": "text/x-python",
   "name": "python",
   "nbconvert_exporter": "python",
   "pygments_lexer": "ipython3",
   "version": "3.11.7"
  }
 },
 "nbformat": 4,
 "nbformat_minor": 5
}
