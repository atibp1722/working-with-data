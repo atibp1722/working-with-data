{
 "cells": [
  {
   "cell_type": "markdown",
   "id": "dfa68d55-e94d-409d-8e43-fcd2d1ac8860",
   "metadata": {},
   "source": [
    "Supervised learning model used to solve problems related to classification and regression\n",
    "\n",
    "Types:\n",
    "1. CART- for solving regression problems.\n",
    "2. ID3- for solving classification problems\n",
    "\n",
    "At each level of decision tree construction, feature must be selected as splitiing attribute(split into subsets based on the splitting features)\n",
    "\n",
    "Simple mechanism:\n",
    "\n",
    "a. Based on data provided features should produce regression or classification output\n",
    "\n",
    "b. Select the best feature to be used to split the dataset\n",
    "\n",
    "c. Further split the data using best feature as basis \n",
    "\n",
    "d. Repeat splitting until all data is classified\n",
    "\n",
    "Entropy for 'two' class dataset: range 0 to 1\n",
    "\n",
    "Representation: E(D) = -p[yes].log2(p[yes])-p[no].log2(p[no])\n",
    "\n",
    "Choosing splitting features if 'n' features in the datasets:\n",
    "\n",
    "Entropy- measure of impurity in the dataset. if all samples are part of the same class it is considered to be 'pure' else 'impure'. entropy is 0 for pure, 1 for impure.\n",
    "\n",
    "'n' class dateset: range 0 to log2n\n",
    "\n",
    "Representation: E(S)= [i=1Σc - Pi.log2(Pi)]; c is number of labels, Pi is number of samples belonging to i\n",
    "\n",
    "1. Information Gain: measure of reduction in entropy; lower entropy means higher information gain, primarily used for selecting best splitting feature\n",
    "\n",
    "E[root]-weighted average*E[child]\n",
    "\n",
    "Representation: E - feature∈datasetΣ [abs(child)/abs(root)]*E(child)\n",
    "\n",
    "2. Gini Index- measure to find the purity of the split range between 0 and 1\n",
    "\n",
    "Gi = 1-(p{yes)^2+p(no)^2)"
   ]
  },
  {
   "cell_type": "markdown",
   "id": "8f786672-9a6c-4789-bf57-b8843498f5d2",
   "metadata": {},
   "source": []
  },
  {
   "cell_type": "code",
   "execution_count": 5,
   "id": "4ca48ac4-5a39-4137-9cdf-7ebbb0d0c3ca",
   "metadata": {},
   "outputs": [],
   "source": [
    "import numpy as np\n",
    "import pandas as pd"
   ]
  },
  {
   "cell_type": "code",
   "execution_count": null,
   "id": "d02118a0-147b-4ff4-a5ef-70ea8cf9d287",
   "metadata": {},
   "outputs": [],
   "source": [
    "#Entropy calcualtion function\n",
    "def entropy(cols):\n",
    "    #Return all unique values\n",
    "    count=np.unique(cols,return_counts=True)\n",
    "    ent=0\n",
    "    for i in count[1]:\n",
    "        #Probability of occurence\n",
    "        prob=i/cols.shape[0]\n",
    "        #Representation of entropy formula\n",
    "        ent+=(-1*prob.np.log2(prob))\n",
    "    return ent"
   ]
  },
  {
   "cell_type": "code",
   "execution_count": null,
   "id": "3bf1c497-ce5b-47e7-b9c4-7e861c813116",
   "metadata": {},
   "outputs": [],
   "source": [
    "#Separating dataset\n",
    "def separate_data(data,fkey,fval):\n",
    "    #Columns to hold separated dataset values\n",
    "    right=pd.DataFrame([],columns=data.columns)\n",
    "    left=pd.DataFrame([],columns=data.columns)\n",
    "    for i in range(data.shape[0]):\n",
    "        #Get data for location\n",
    "        val=data[fkey].loc[i]\n",
    "        #Condition to add value to right or left columns\n",
    "        if val>=fval:\n",
    "            right=right.append(data.iloc[i])\n",
    "        else:\n",
    "            left=left.append(data.iloc[i])\n",
    "    return right,left"
   ]
  },
  {
   "cell_type": "code",
   "execution_count": null,
   "id": "1f6decec-6a45-4adf-8cea-5fee0aae7680",
   "metadata": {},
   "outputs": [],
   "source": []
  },
  {
   "cell_type": "code",
   "execution_count": null,
   "id": "42006f84-376b-4d5c-af62-3482c25404d1",
   "metadata": {},
   "outputs": [],
   "source": []
  },
  {
   "cell_type": "code",
   "execution_count": null,
   "id": "ce9ddf5f-2656-43ca-8b98-7bc66f757bea",
   "metadata": {},
   "outputs": [],
   "source": []
  }
 ],
 "metadata": {
  "kernelspec": {
   "display_name": "Python 3 (ipykernel)",
   "language": "python",
   "name": "python3"
  },
  "language_info": {
   "codemirror_mode": {
    "name": "ipython",
    "version": 3
   },
   "file_extension": ".py",
   "mimetype": "text/x-python",
   "name": "python",
   "nbconvert_exporter": "python",
   "pygments_lexer": "ipython3",
   "version": "3.11.7"
  }
 },
 "nbformat": 4,
 "nbformat_minor": 5
}
