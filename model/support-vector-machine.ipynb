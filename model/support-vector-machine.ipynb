{
 "cells": [
  {
   "cell_type": "code",
   "execution_count": 2,
   "id": "9b59d83c-b49a-4064-8bc0-c2fda51f3bea",
   "metadata": {},
   "outputs": [],
   "source": [
    "# follows a linear model and uses it find a linaer boundary that separates the data\n",
    "# find the hyperplane such that the margin between both classes is maximised\n",
    "# components\n",
    "# linar model, cost function"
   ]
  },
  {
   "cell_type": "code",
   "execution_count": 3,
   "id": "f8b4110c-4d74-42fa-9c27-9cc87b941bed",
   "metadata": {},
   "outputs": [],
   "source": [
    "import numpy as np"
   ]
  },
  {
   "cell_type": "code",
   "execution_count": 1,
   "id": "9b080d29-117d-4eef-bc82-af804d4cd5b6",
   "metadata": {},
   "outputs": [],
   "source": [
    "class SVM:\n",
    "\n",
    "    def __init__(self,learning_rate=0.01,lambda_param=0.01,n_iters=2000):\n",
    "        self.learning_rate=learning_rate\n",
    "        self.lambda_param=lambda_param\n",
    "        self.n_iters=n_iters\n",
    "        self.weight=None\n",
    "        self.biass=None\n",
    "\n",
    "    def fit(self,X,y):\n",
    "        #case to deal with numbers less than 0\n",
    "        y_=np.where(y<=0,-1,1)\n",
    "        n_sample,n_features=X.shape\n",
    "        self.weight=np.zeros(n_features)\n",
    "        self.bias=0\n",
    "\n",
    "        #gradient descent\n",
    "        for _ in range(self.n_iters):\n",
    "            for i,x in enumerate(X):\n",
    "                con=y_[i]*(np.dot(x,self.weight)-self.bias)>=1\n",
    "                if con:\n",
    "                    #update function\n",
    "                    self.weight-=self.learning_rate*(2*self.lambda_param*self.weight)\n",
    "                else:\n",
    "                    self.weight-=self.learning_rate*(2*self.lambda_param*self.weight-np.dot(x,y_[i]))\n",
    "                    self.bias-=self.learning_rate*y_[i]\n",
    "\n",
    "    def predict(self,X):\n",
    "        #represents the formula [w*x-b]\n",
    "        linear=np.dot(X,self.weight)-self.bias\n",
    "        return np.sign(linear)"
   ]
  },
  {
   "cell_type": "code",
   "execution_count": null,
   "id": "34811ae8-da4f-40f7-9df5-dbdeb41b86e4",
   "metadata": {},
   "outputs": [],
   "source": []
  },
  {
   "cell_type": "code",
   "execution_count": null,
   "id": "033784b0-9fb2-4b71-8173-50671bd37329",
   "metadata": {},
   "outputs": [],
   "source": []
  },
  {
   "cell_type": "code",
   "execution_count": null,
   "id": "ba84c493-300d-4152-a36b-e1e6dd3154a1",
   "metadata": {},
   "outputs": [],
   "source": []
  },
  {
   "cell_type": "code",
   "execution_count": null,
   "id": "92bbd642-0663-4dee-9d02-97f50f884883",
   "metadata": {},
   "outputs": [],
   "source": []
  },
  {
   "cell_type": "code",
   "execution_count": null,
   "id": "702c5ef9-d105-4b17-8640-0ccb1f312cac",
   "metadata": {},
   "outputs": [],
   "source": []
  },
  {
   "cell_type": "code",
   "execution_count": null,
   "id": "0e5e4147-8037-4f18-9637-e20982698f6a",
   "metadata": {},
   "outputs": [],
   "source": []
  }
 ],
 "metadata": {
  "kernelspec": {
   "display_name": "Python 3 (ipykernel)",
   "language": "python",
   "name": "python3"
  },
  "language_info": {
   "codemirror_mode": {
    "name": "ipython",
    "version": 3
   },
   "file_extension": ".py",
   "mimetype": "text/x-python",
   "name": "python",
   "nbconvert_exporter": "python",
   "pygments_lexer": "ipython3",
   "version": "3.11.7"
  }
 },
 "nbformat": 4,
 "nbformat_minor": 5
}
