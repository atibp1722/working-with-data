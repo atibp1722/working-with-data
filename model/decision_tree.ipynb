{
 "cells": [
  {
   "cell_type": "markdown",
   "id": "dfa68d55-e94d-409d-8e43-fcd2d1ac8860",
   "metadata": {},
   "source": [
    "Supervised learning model used to solve problems related to classification and regression\n",
    "\n",
    "Types:\n",
    "1. CART- for solving regression problems.\n",
    "2. ID3- for solving classification problems\n",
    "\n",
    "At each level of decision tree construction, feature must be selected as splitiing attribute(split into subsets based on the splitting features)\n",
    "\n",
    "Simple mechanism:\n",
    "\n",
    "a. Based on data provided features should produce regression or classification output\n",
    "\n",
    "b. Select the best feature to be used to split the dataset\n",
    "\n",
    "c. Further split the data using best feature as basis \n",
    "\n",
    "d. Repeat splitting until all data is classified\n",
    "\n",
    "Entropy for 'two' class dataset: range 0 to 1\n",
    "\n",
    "Representation: E(D) = -p[yes].log2(p[yes])-p[no].log2(p[no])\n",
    "\n",
    "Choosing splitting features if 'n' features in the datasets:\n",
    "\n",
    "Entropy- measure of impurity in the dataset. if all samples are part of the same class it is considered to be 'pure' else 'impure'. entropy is 0 for pure, 1 for impure.\n",
    "\n",
    "'n' class dateset: range 0 to log2n\n",
    "\n",
    "Representation: E(S)= [i=1Σc - Pi.log2(Pi)]; c is number of labels, Pi is number of samples belonging to i\n",
    "\n",
    "1. Information Gain: measure of reduction in entropy; lower entropy means higher information gain, primarily used for selecting best splitting feature\n",
    "\n",
    "E[root]-weighted average*E[child]\n",
    "\n",
    "Representation: E - feature∈datasetΣ [abs(child)/abs(root)]*E(child)\n",
    "\n",
    "2. Gini Index- measure to find the purity of the split range between 0 and 1\n",
    "\n",
    "Gi = 1-(p{yes)^2+p(no)^2)"
   ]
  },
  {
   "cell_type": "markdown",
   "id": "8f786672-9a6c-4789-bf57-b8843498f5d2",
   "metadata": {},
   "source": []
  },
  {
   "cell_type": "code",
   "execution_count": 30,
   "id": "4ca48ac4-5a39-4137-9cdf-7ebbb0d0c3ca",
   "metadata": {},
   "outputs": [],
   "source": [
    "import numpy as np\n",
    "import pandas as pd\n",
    "from sklearn.preprocessing import LabelEncoder"
   ]
  },
  {
   "cell_type": "code",
   "execution_count": 89,
   "id": "4b903fbc-4198-4ae9-918b-0bc3d363b0a9",
   "metadata": {},
   "outputs": [],
   "source": [
    "import warnings\n",
    "warnings.filterwarnings('ignore')"
   ]
  },
  {
   "cell_type": "code",
   "execution_count": 6,
   "id": "907d42cd-a54e-4c98-9546-57cb43820629",
   "metadata": {},
   "outputs": [
    {
     "data": {
      "text/html": [
       "<div>\n",
       "<style scoped>\n",
       "    .dataframe tbody tr th:only-of-type {\n",
       "        vertical-align: middle;\n",
       "    }\n",
       "\n",
       "    .dataframe tbody tr th {\n",
       "        vertical-align: top;\n",
       "    }\n",
       "\n",
       "    .dataframe thead th {\n",
       "        text-align: right;\n",
       "    }\n",
       "</style>\n",
       "<table border=\"1\" class=\"dataframe\">\n",
       "  <thead>\n",
       "    <tr style=\"text-align: right;\">\n",
       "      <th></th>\n",
       "      <th>PassengerId</th>\n",
       "      <th>Survived</th>\n",
       "      <th>Pclass</th>\n",
       "      <th>Name</th>\n",
       "      <th>Sex</th>\n",
       "      <th>Age</th>\n",
       "      <th>SibSp</th>\n",
       "      <th>Parch</th>\n",
       "      <th>Ticket</th>\n",
       "      <th>Fare</th>\n",
       "      <th>Cabin</th>\n",
       "      <th>Embarked</th>\n",
       "    </tr>\n",
       "  </thead>\n",
       "  <tbody>\n",
       "    <tr>\n",
       "      <th>0</th>\n",
       "      <td>1</td>\n",
       "      <td>0</td>\n",
       "      <td>3</td>\n",
       "      <td>Braund, Mr. Owen Harris</td>\n",
       "      <td>male</td>\n",
       "      <td>22.0</td>\n",
       "      <td>1</td>\n",
       "      <td>0</td>\n",
       "      <td>A/5 21171</td>\n",
       "      <td>7.2500</td>\n",
       "      <td>NaN</td>\n",
       "      <td>S</td>\n",
       "    </tr>\n",
       "    <tr>\n",
       "      <th>1</th>\n",
       "      <td>2</td>\n",
       "      <td>1</td>\n",
       "      <td>1</td>\n",
       "      <td>Cumings, Mrs. John Bradley (Florence Briggs Th...</td>\n",
       "      <td>female</td>\n",
       "      <td>38.0</td>\n",
       "      <td>1</td>\n",
       "      <td>0</td>\n",
       "      <td>PC 17599</td>\n",
       "      <td>71.2833</td>\n",
       "      <td>C85</td>\n",
       "      <td>C</td>\n",
       "    </tr>\n",
       "    <tr>\n",
       "      <th>2</th>\n",
       "      <td>3</td>\n",
       "      <td>1</td>\n",
       "      <td>3</td>\n",
       "      <td>Heikkinen, Miss. Laina</td>\n",
       "      <td>female</td>\n",
       "      <td>26.0</td>\n",
       "      <td>0</td>\n",
       "      <td>0</td>\n",
       "      <td>STON/O2. 3101282</td>\n",
       "      <td>7.9250</td>\n",
       "      <td>NaN</td>\n",
       "      <td>S</td>\n",
       "    </tr>\n",
       "    <tr>\n",
       "      <th>3</th>\n",
       "      <td>4</td>\n",
       "      <td>1</td>\n",
       "      <td>1</td>\n",
       "      <td>Futrelle, Mrs. Jacques Heath (Lily May Peel)</td>\n",
       "      <td>female</td>\n",
       "      <td>35.0</td>\n",
       "      <td>1</td>\n",
       "      <td>0</td>\n",
       "      <td>113803</td>\n",
       "      <td>53.1000</td>\n",
       "      <td>C123</td>\n",
       "      <td>S</td>\n",
       "    </tr>\n",
       "    <tr>\n",
       "      <th>4</th>\n",
       "      <td>5</td>\n",
       "      <td>0</td>\n",
       "      <td>3</td>\n",
       "      <td>Allen, Mr. William Henry</td>\n",
       "      <td>male</td>\n",
       "      <td>35.0</td>\n",
       "      <td>0</td>\n",
       "      <td>0</td>\n",
       "      <td>373450</td>\n",
       "      <td>8.0500</td>\n",
       "      <td>NaN</td>\n",
       "      <td>S</td>\n",
       "    </tr>\n",
       "  </tbody>\n",
       "</table>\n",
       "</div>"
      ],
      "text/plain": [
       "   PassengerId  Survived  Pclass  \\\n",
       "0            1         0       3   \n",
       "1            2         1       1   \n",
       "2            3         1       3   \n",
       "3            4         1       1   \n",
       "4            5         0       3   \n",
       "\n",
       "                                                Name     Sex   Age  SibSp  \\\n",
       "0                            Braund, Mr. Owen Harris    male  22.0      1   \n",
       "1  Cumings, Mrs. John Bradley (Florence Briggs Th...  female  38.0      1   \n",
       "2                             Heikkinen, Miss. Laina  female  26.0      0   \n",
       "3       Futrelle, Mrs. Jacques Heath (Lily May Peel)  female  35.0      1   \n",
       "4                           Allen, Mr. William Henry    male  35.0      0   \n",
       "\n",
       "   Parch            Ticket     Fare Cabin Embarked  \n",
       "0      0         A/5 21171   7.2500   NaN        S  \n",
       "1      0          PC 17599  71.2833   C85        C  \n",
       "2      0  STON/O2. 3101282   7.9250   NaN        S  \n",
       "3      0            113803  53.1000  C123        S  \n",
       "4      0            373450   8.0500   NaN        S  "
      ]
     },
     "execution_count": 6,
     "metadata": {},
     "output_type": "execute_result"
    }
   ],
   "source": [
    "df=pd.read_csv('train.csv')\n",
    "df.head()"
   ]
  },
  {
   "cell_type": "code",
   "execution_count": 22,
   "id": "05f7e288-0f2d-4f38-a935-aa979a925f8f",
   "metadata": {},
   "outputs": [
    {
     "data": {
      "text/plain": [
       "Index(['PassengerId', 'Survived', 'Pclass', 'Name', 'Sex', 'Age', 'SibSp',\n",
       "       'Parch', 'Ticket', 'Fare', 'Cabin', 'Embarked'],\n",
       "      dtype='object')"
      ]
     },
     "execution_count": 22,
     "metadata": {},
     "output_type": "execute_result"
    }
   ],
   "source": [
    "df.columns"
   ]
  },
  {
   "cell_type": "code",
   "execution_count": 23,
   "id": "e555b6cd-61ea-495c-ac5f-96cc063aece5",
   "metadata": {},
   "outputs": [],
   "source": [
    "unwanted_cols=['PassengerId','Name','Ticket','Fare','Cabin','Embarked']"
   ]
  },
  {
   "cell_type": "code",
   "execution_count": 24,
   "id": "fc3b0b58-ec95-4dd2-8b13-555223f47f92",
   "metadata": {},
   "outputs": [],
   "source": [
    "df=df.drop(unwanted_cols,axis=1)"
   ]
  },
  {
   "cell_type": "code",
   "execution_count": 25,
   "id": "78eb3efa-63b7-44d5-a6f2-b09206b592c3",
   "metadata": {},
   "outputs": [
    {
     "data": {
      "text/plain": [
       "Index(['Survived', 'Pclass', 'Sex', 'Age', 'SibSp', 'Parch'], dtype='object')"
      ]
     },
     "execution_count": 25,
     "metadata": {},
     "output_type": "execute_result"
    }
   ],
   "source": [
    "df.columns"
   ]
  },
  {
   "cell_type": "code",
   "execution_count": 27,
   "id": "c462f3b4-1ed2-423d-ad90-bb5adc93e3b5",
   "metadata": {},
   "outputs": [
    {
     "name": "stdout",
     "output_type": "stream",
     "text": [
      "<class 'pandas.core.frame.DataFrame'>\n",
      "RangeIndex: 891 entries, 0 to 890\n",
      "Data columns (total 6 columns):\n",
      " #   Column    Non-Null Count  Dtype  \n",
      "---  ------    --------------  -----  \n",
      " 0   Survived  891 non-null    int64  \n",
      " 1   Pclass    891 non-null    int64  \n",
      " 2   Sex       891 non-null    object \n",
      " 3   Age       714 non-null    float64\n",
      " 4   SibSp     891 non-null    int64  \n",
      " 5   Parch     891 non-null    int64  \n",
      "dtypes: float64(1), int64(4), object(1)\n",
      "memory usage: 41.9+ KB\n"
     ]
    }
   ],
   "source": [
    "df.info()"
   ]
  },
  {
   "cell_type": "code",
   "execution_count": 28,
   "id": "af8f613e-6ad4-41e3-9398-843f1800ea13",
   "metadata": {},
   "outputs": [],
   "source": [
    "df=df.fillna(df['Age'].mean())"
   ]
  },
  {
   "cell_type": "code",
   "execution_count": 29,
   "id": "ff008950-3962-473f-af29-bb0c1f4e65b7",
   "metadata": {},
   "outputs": [
    {
     "name": "stdout",
     "output_type": "stream",
     "text": [
      "<class 'pandas.core.frame.DataFrame'>\n",
      "RangeIndex: 891 entries, 0 to 890\n",
      "Data columns (total 6 columns):\n",
      " #   Column    Non-Null Count  Dtype  \n",
      "---  ------    --------------  -----  \n",
      " 0   Survived  891 non-null    int64  \n",
      " 1   Pclass    891 non-null    int64  \n",
      " 2   Sex       891 non-null    object \n",
      " 3   Age       891 non-null    float64\n",
      " 4   SibSp     891 non-null    int64  \n",
      " 5   Parch     891 non-null    int64  \n",
      "dtypes: float64(1), int64(4), object(1)\n",
      "memory usage: 41.9+ KB\n"
     ]
    }
   ],
   "source": [
    "df.info()"
   ]
  },
  {
   "cell_type": "code",
   "execution_count": 33,
   "id": "b9d3232a-8452-4d4f-a0df-225604476623",
   "metadata": {},
   "outputs": [
    {
     "name": "stdout",
     "output_type": "stream",
     "text": [
      "<class 'pandas.core.frame.DataFrame'>\n",
      "RangeIndex: 891 entries, 0 to 890\n",
      "Data columns (total 6 columns):\n",
      " #   Column    Non-Null Count  Dtype  \n",
      "---  ------    --------------  -----  \n",
      " 0   Survived  891 non-null    int64  \n",
      " 1   Pclass    891 non-null    int64  \n",
      " 2   Sex       891 non-null    int64  \n",
      " 3   Age       891 non-null    float64\n",
      " 4   SibSp     891 non-null    int64  \n",
      " 5   Parch     891 non-null    int64  \n",
      "dtypes: float64(1), int64(5)\n",
      "memory usage: 41.9 KB\n"
     ]
    }
   ],
   "source": [
    "lbl_enc=LabelEncoder()\n",
    "\n",
    "df['Sex']=lbl_enc.fit_transform(df['Sex'])\n",
    "df.head()\n",
    "df.info()"
   ]
  },
  {
   "cell_type": "code",
   "execution_count": 34,
   "id": "9a1e3dd9-d513-40b4-a9c3-6e1eaf47e18f",
   "metadata": {},
   "outputs": [
    {
     "data": {
      "text/html": [
       "<div>\n",
       "<style scoped>\n",
       "    .dataframe tbody tr th:only-of-type {\n",
       "        vertical-align: middle;\n",
       "    }\n",
       "\n",
       "    .dataframe tbody tr th {\n",
       "        vertical-align: top;\n",
       "    }\n",
       "\n",
       "    .dataframe thead th {\n",
       "        text-align: right;\n",
       "    }\n",
       "</style>\n",
       "<table border=\"1\" class=\"dataframe\">\n",
       "  <thead>\n",
       "    <tr style=\"text-align: right;\">\n",
       "      <th></th>\n",
       "      <th>output</th>\n",
       "      <th>Pclass</th>\n",
       "      <th>Sex</th>\n",
       "      <th>Age</th>\n",
       "      <th>SibSp</th>\n",
       "      <th>Parch</th>\n",
       "    </tr>\n",
       "  </thead>\n",
       "  <tbody>\n",
       "    <tr>\n",
       "      <th>0</th>\n",
       "      <td>0</td>\n",
       "      <td>3</td>\n",
       "      <td>1</td>\n",
       "      <td>22.0</td>\n",
       "      <td>1</td>\n",
       "      <td>0</td>\n",
       "    </tr>\n",
       "    <tr>\n",
       "      <th>1</th>\n",
       "      <td>1</td>\n",
       "      <td>1</td>\n",
       "      <td>0</td>\n",
       "      <td>38.0</td>\n",
       "      <td>1</td>\n",
       "      <td>0</td>\n",
       "    </tr>\n",
       "    <tr>\n",
       "      <th>2</th>\n",
       "      <td>1</td>\n",
       "      <td>3</td>\n",
       "      <td>0</td>\n",
       "      <td>26.0</td>\n",
       "      <td>0</td>\n",
       "      <td>0</td>\n",
       "    </tr>\n",
       "    <tr>\n",
       "      <th>3</th>\n",
       "      <td>1</td>\n",
       "      <td>1</td>\n",
       "      <td>0</td>\n",
       "      <td>35.0</td>\n",
       "      <td>1</td>\n",
       "      <td>0</td>\n",
       "    </tr>\n",
       "    <tr>\n",
       "      <th>4</th>\n",
       "      <td>0</td>\n",
       "      <td>3</td>\n",
       "      <td>1</td>\n",
       "      <td>35.0</td>\n",
       "      <td>0</td>\n",
       "      <td>0</td>\n",
       "    </tr>\n",
       "  </tbody>\n",
       "</table>\n",
       "</div>"
      ],
      "text/plain": [
       "   output  Pclass  Sex   Age  SibSp  Parch\n",
       "0       0       3    1  22.0      1      0\n",
       "1       1       1    0  38.0      1      0\n",
       "2       1       3    0  26.0      0      0\n",
       "3       1       1    0  35.0      1      0\n",
       "4       0       3    1  35.0      0      0"
      ]
     },
     "execution_count": 34,
     "metadata": {},
     "output_type": "execute_result"
    }
   ],
   "source": [
    "df.columns=['output', 'Pclass', 'Sex', 'Age', 'SibSp', 'Parch']\n",
    "df.head()"
   ]
  },
  {
   "cell_type": "code",
   "execution_count": null,
   "id": "66be4275-5788-4342-bb6e-7525c452e602",
   "metadata": {},
   "outputs": [],
   "source": []
  },
  {
   "cell_type": "code",
   "execution_count": 119,
   "id": "d02118a0-147b-4ff4-a5ef-70ea8cf9d287",
   "metadata": {},
   "outputs": [],
   "source": [
    "#Entropy calcualtion function\n",
    "def entropy(cols):\n",
    "    #Return all unique values\n",
    "    count=np.unique(cols,return_counts=True)\n",
    "    ent=0.0\n",
    "    for i in count[1]:\n",
    "        #Probability of occurence\n",
    "        prob=i/cols.shape[0]\n",
    "        #Representation of entropy formula\n",
    "        ent+=(-1.0*prob*np.log2(prob))\n",
    "    return ent"
   ]
  },
  {
   "cell_type": "code",
   "execution_count": 120,
   "id": "3bf1c497-ce5b-47e7-b9c4-7e861c813116",
   "metadata": {},
   "outputs": [],
   "source": [
    "#Separating dataset\n",
    "def separate_data(data,fkey,fval):\n",
    "    #Columns to hold separated dataset values\n",
    "    rightr=pd.DataFrame([],columns=data.columns)\n",
    "    leftl=pd.DataFrame([],columns=data.columns)\n",
    "    for i in range(data.shape[0]):\n",
    "        #Get data for location\n",
    "        val=data[fkey].loc[i]\n",
    "        #Condition to add value to right or left columns\n",
    "        if val>=fval:\n",
    "            rightr=rightr._append(data.iloc[i])\n",
    "        else:\n",
    "            leftl=leftl._append(data.iloc[i])\n",
    "    return rightr,leftl"
   ]
  },
  {
   "cell_type": "code",
   "execution_count": 132,
   "id": "1f6decec-6a45-4adf-8cea-5fee0aae7680",
   "metadata": {},
   "outputs": [],
   "source": [
    "#Information gain function\n",
    "def information_gain(data,fkey,fval):\n",
    "    right,left=separate_data(data,fkey,fval)\n",
    "    #Old and new shape of data is calculated\n",
    "    l=float(left.shape[0])/data.shape[0]\n",
    "    r=float(right.shape[0])/data.shape[0]\n",
    "    #All results in the column are the same\n",
    "    if left.shape[0]==0 or right.shape[0]==0:\n",
    "        return -99999\n",
    "    #New entropy value for information gain\n",
    "    info_gain=entropy(data.output)-(l*entropy(left.output)+r*entropy(right.output))\n",
    "    return info_gain"
   ]
  },
  {
   "cell_type": "code",
   "execution_count": 133,
   "id": "42006f84-376b-4d5c-af62-3482c25404d1",
   "metadata": {},
   "outputs": [],
   "source": [
    "class DecisionTree:\n",
    "    #Initialize required variables for the tree\n",
    "    def __init__(self,depth=0,max_depth=3):\n",
    "        self.left=None\n",
    "        self.right=None\n",
    "        self.fkey=None\n",
    "        self.fval=None\n",
    "        self.depth=depth\n",
    "        self.max_depth=max_depth\n",
    "        self.target=None\n",
    "\n",
    "    def train(self,X_train):\n",
    "        feature=['Pclass', 'Sex', 'Age', 'SibSp', 'Parch']\n",
    "        info_gain_list=[]\n",
    "        for i in feature:\n",
    "            #Calculate information gain for all features\n",
    "            info_gain=information_gain(X_train,i,X_train[i].mean())\n",
    "            info_gain_list.append(info_gain)\n",
    "        #Get the max information gain value to make the root node\n",
    "        self.fkey=feature[np.argmax(info_gain_list)]\n",
    "        #Which side to split based on mean of column\n",
    "        self.fval=X_train[self.fkey].mean()\n",
    "        print('Split',self.fkey)\n",
    "        n_right,n_left=separate_data(X_train,self.fkey,self.fval)\n",
    "        #Divide data for tree\n",
    "        n_right=n_right.reset_index(drop=True)\n",
    "        n_left=n_left.reset_index(drop=True)\n",
    "        #Threshold value\n",
    "        if n_left.shape[0]==0 or n_right.shape[0]==0:\n",
    "            if X_train.output.mean()>=0.5:\n",
    "                self.target='SURVIVE'\n",
    "            else:\n",
    "                self.target='DEAD'\n",
    "            return \n",
    "        if self.depth>self.max_depth:\n",
    "            if X_train.output.mean()>=0.5:\n",
    "                self.target='SURVIVE'\n",
    "            else:\n",
    "                self.target='DEAD'\n",
    "            return \n",
    "            \n",
    "        self.left=DecisionTree(self.depth+1,self.max_depth)\n",
    "        self.left.train(n_left)\n",
    "        self.right=DecisionTree(self.depth+1,self.max_depth)\n",
    "        self.right.train(n_right)\n",
    "        if X_train.output.mean()>=0.5:\n",
    "            self.target='SURVIVE'\n",
    "        else:\n",
    "            self.target='DEAD'\n",
    "        return \n",
    "\n",
    "    def predict(self,test):\n",
    "        if test[self.fkey]>self.fval:\n",
    "            #Check for last node\n",
    "            if self.right is None:\n",
    "                return self.target\n",
    "            return self.right.predict(test)"
   ]
  },
  {
   "cell_type": "code",
   "execution_count": 142,
   "id": "1292643d-ac7b-4439-955c-433714dd6bc0",
   "metadata": {},
   "outputs": [
    {
     "data": {
      "text/html": [
       "<div>\n",
       "<style scoped>\n",
       "    .dataframe tbody tr th:only-of-type {\n",
       "        vertical-align: middle;\n",
       "    }\n",
       "\n",
       "    .dataframe tbody tr th {\n",
       "        vertical-align: top;\n",
       "    }\n",
       "\n",
       "    .dataframe thead th {\n",
       "        text-align: right;\n",
       "    }\n",
       "</style>\n",
       "<table border=\"1\" class=\"dataframe\">\n",
       "  <thead>\n",
       "    <tr style=\"text-align: right;\">\n",
       "      <th></th>\n",
       "      <th>output</th>\n",
       "      <th>Pclass</th>\n",
       "      <th>Sex</th>\n",
       "      <th>Age</th>\n",
       "      <th>SibSp</th>\n",
       "      <th>Parch</th>\n",
       "    </tr>\n",
       "  </thead>\n",
       "  <tbody>\n",
       "    <tr>\n",
       "      <th>0</th>\n",
       "      <td>1</td>\n",
       "      <td>1</td>\n",
       "      <td>1</td>\n",
       "      <td>48.000000</td>\n",
       "      <td>1</td>\n",
       "      <td>0</td>\n",
       "    </tr>\n",
       "    <tr>\n",
       "      <th>1</th>\n",
       "      <td>0</td>\n",
       "      <td>3</td>\n",
       "      <td>1</td>\n",
       "      <td>29.000000</td>\n",
       "      <td>0</td>\n",
       "      <td>0</td>\n",
       "    </tr>\n",
       "    <tr>\n",
       "      <th>2</th>\n",
       "      <td>0</td>\n",
       "      <td>2</td>\n",
       "      <td>1</td>\n",
       "      <td>52.000000</td>\n",
       "      <td>0</td>\n",
       "      <td>0</td>\n",
       "    </tr>\n",
       "    <tr>\n",
       "      <th>3</th>\n",
       "      <td>0</td>\n",
       "      <td>3</td>\n",
       "      <td>1</td>\n",
       "      <td>19.000000</td>\n",
       "      <td>0</td>\n",
       "      <td>0</td>\n",
       "    </tr>\n",
       "    <tr>\n",
       "      <th>4</th>\n",
       "      <td>1</td>\n",
       "      <td>1</td>\n",
       "      <td>0</td>\n",
       "      <td>38.000000</td>\n",
       "      <td>0</td>\n",
       "      <td>0</td>\n",
       "    </tr>\n",
       "    <tr>\n",
       "      <th>...</th>\n",
       "      <td>...</td>\n",
       "      <td>...</td>\n",
       "      <td>...</td>\n",
       "      <td>...</td>\n",
       "      <td>...</td>\n",
       "      <td>...</td>\n",
       "    </tr>\n",
       "    <tr>\n",
       "      <th>174</th>\n",
       "      <td>0</td>\n",
       "      <td>2</td>\n",
       "      <td>1</td>\n",
       "      <td>27.000000</td>\n",
       "      <td>0</td>\n",
       "      <td>0</td>\n",
       "    </tr>\n",
       "    <tr>\n",
       "      <th>175</th>\n",
       "      <td>1</td>\n",
       "      <td>1</td>\n",
       "      <td>0</td>\n",
       "      <td>19.000000</td>\n",
       "      <td>0</td>\n",
       "      <td>0</td>\n",
       "    </tr>\n",
       "    <tr>\n",
       "      <th>176</th>\n",
       "      <td>0</td>\n",
       "      <td>3</td>\n",
       "      <td>0</td>\n",
       "      <td>29.699118</td>\n",
       "      <td>1</td>\n",
       "      <td>2</td>\n",
       "    </tr>\n",
       "    <tr>\n",
       "      <th>177</th>\n",
       "      <td>1</td>\n",
       "      <td>1</td>\n",
       "      <td>1</td>\n",
       "      <td>26.000000</td>\n",
       "      <td>0</td>\n",
       "      <td>0</td>\n",
       "    </tr>\n",
       "    <tr>\n",
       "      <th>178</th>\n",
       "      <td>0</td>\n",
       "      <td>3</td>\n",
       "      <td>1</td>\n",
       "      <td>32.000000</td>\n",
       "      <td>0</td>\n",
       "      <td>0</td>\n",
       "    </tr>\n",
       "  </tbody>\n",
       "</table>\n",
       "<p>179 rows × 6 columns</p>\n",
       "</div>"
      ],
      "text/plain": [
       "     output  Pclass  Sex        Age  SibSp  Parch\n",
       "0         1       1    1  48.000000      1      0\n",
       "1         0       3    1  29.000000      0      0\n",
       "2         0       2    1  52.000000      0      0\n",
       "3         0       3    1  19.000000      0      0\n",
       "4         1       1    0  38.000000      0      0\n",
       "..      ...     ...  ...        ...    ...    ...\n",
       "174       0       2    1  27.000000      0      0\n",
       "175       1       1    0  19.000000      0      0\n",
       "176       0       3    0  29.699118      1      2\n",
       "177       1       1    1  26.000000      0      0\n",
       "178       0       3    1  32.000000      0      0\n",
       "\n",
       "[179 rows x 6 columns]"
      ]
     },
     "execution_count": 142,
     "metadata": {},
     "output_type": "execute_result"
    }
   ],
   "source": [
    "split=int(0.8*df.shape[0])\n",
    "train_data=df[:split]\n",
    "test_data=df[split:]\n",
    "test_data=test_data.reset_index(drop=True)\n",
    "test_data"
   ]
  },
  {
   "cell_type": "code",
   "execution_count": 143,
   "id": "ce9ddf5f-2656-43ca-8b98-7bc66f757bea",
   "metadata": {},
   "outputs": [],
   "source": [
    "dec_tre=DecisionTree()"
   ]
  },
  {
   "cell_type": "code",
   "execution_count": 144,
   "id": "a4b48e02-1bd0-4dfa-ad54-323d7d4d923b",
   "metadata": {},
   "outputs": [
    {
     "name": "stdout",
     "output_type": "stream",
     "text": [
      "Split Sex\n",
      "Split Pclass\n",
      "Split Age\n",
      "Split SibSp\n",
      "Split Pclass\n",
      "Split SibSp\n",
      "Split SibSp\n",
      "Split Parch\n",
      "Split Pclass\n",
      "Split Parch\n",
      "Split SibSp\n",
      "Split Age\n",
      "Split Age\n",
      "Split SibSp\n",
      "Split Parch\n",
      "Split Parch\n",
      "Split Pclass\n",
      "Split Pclass\n",
      "Split Age\n",
      "Split SibSp\n",
      "Split Age\n",
      "Split Parch\n",
      "Split SibSp\n",
      "Split Age\n",
      "Split Age\n",
      "Split Age\n",
      "Split SibSp\n",
      "Split Parch\n",
      "Split Age\n",
      "Split Age\n",
      "Split Parch\n"
     ]
    }
   ],
   "source": [
    "dec_tre.train(train_data)"
   ]
  },
  {
   "cell_type": "code",
   "execution_count": 151,
   "id": "bf832cae-9097-40e6-a24a-322c8faf707d",
   "metadata": {},
   "outputs": [
    {
     "data": {
      "text/plain": [
       "'Pclass'"
      ]
     },
     "execution_count": 151,
     "metadata": {},
     "output_type": "execute_result"
    }
   ],
   "source": [
    "dec_tre.right.fkey"
   ]
  },
  {
   "cell_type": "code",
   "execution_count": 152,
   "id": "4739fd3c-0abf-4092-a667-84018d04ec30",
   "metadata": {},
   "outputs": [
    {
     "data": {
      "text/plain": [
       "'Pclass'"
      ]
     },
     "execution_count": 152,
     "metadata": {},
     "output_type": "execute_result"
    }
   ],
   "source": [
    "dec_tre.left.fkey"
   ]
  },
  {
   "cell_type": "code",
   "execution_count": 157,
   "id": "6c37ea28-24b6-4001-83d0-7148fb10de8c",
   "metadata": {},
   "outputs": [
    {
     "data": {
      "text/plain": [
       "'Parch'"
      ]
     },
     "execution_count": 157,
     "metadata": {},
     "output_type": "execute_result"
    }
   ],
   "source": [
    "dec_tre.left.right.fkey"
   ]
  },
  {
   "cell_type": "code",
   "execution_count": 158,
   "id": "b48ebdc3-d0b2-4b12-83c2-bc2466809802",
   "metadata": {},
   "outputs": [
    {
     "data": {
      "text/plain": [
       "'Age'"
      ]
     },
     "execution_count": 158,
     "metadata": {},
     "output_type": "execute_result"
    }
   ],
   "source": [
    "dec_tre.left.left.fkey"
   ]
  },
  {
   "cell_type": "code",
   "execution_count": null,
   "id": "b2454c6f-7428-420c-9f3c-4aeb3474ce35",
   "metadata": {},
   "outputs": [],
   "source": []
  },
  {
   "cell_type": "code",
   "execution_count": null,
   "id": "b56b8bfd-0cb0-40fe-a27b-0488a4e1ace7",
   "metadata": {},
   "outputs": [],
   "source": []
  }
 ],
 "metadata": {
  "kernelspec": {
   "display_name": "Python 3 (ipykernel)",
   "language": "python",
   "name": "python3"
  },
  "language_info": {
   "codemirror_mode": {
    "name": "ipython",
    "version": 3
   },
   "file_extension": ".py",
   "mimetype": "text/x-python",
   "name": "python",
   "nbconvert_exporter": "python",
   "pygments_lexer": "ipython3",
   "version": "3.11.7"
  }
 },
 "nbformat": 4,
 "nbformat_minor": 5
}
