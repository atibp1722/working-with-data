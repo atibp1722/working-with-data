{
 "cells": [
  {
   "cell_type": "code",
   "execution_count": 1,
   "id": "a61d2dd8-4604-493e-8f89-973a163e8d56",
   "metadata": {},
   "outputs": [],
   "source": [
    "import numpy as np\n",
    "import pandas as pd\n",
    "import seaborn as sns\n",
    "import random\n",
    "import math\n",
    "import matplotlib.pyplot as plt"
   ]
  },
  {
   "cell_type": "code",
   "execution_count": 2,
   "id": "f7097520-30d5-4c76-a077-1b821d3045dd",
   "metadata": {},
   "outputs": [
    {
     "data": {
      "text/html": [
       "<div>\n",
       "<style scoped>\n",
       "    .dataframe tbody tr th:only-of-type {\n",
       "        vertical-align: middle;\n",
       "    }\n",
       "\n",
       "    .dataframe tbody tr th {\n",
       "        vertical-align: top;\n",
       "    }\n",
       "\n",
       "    .dataframe thead th {\n",
       "        text-align: right;\n",
       "    }\n",
       "</style>\n",
       "<table border=\"1\" class=\"dataframe\">\n",
       "  <thead>\n",
       "    <tr style=\"text-align: right;\">\n",
       "      <th></th>\n",
       "      <th>Unnamed: 0</th>\n",
       "      <th>TV</th>\n",
       "      <th>Radio</th>\n",
       "      <th>Newspaper</th>\n",
       "      <th>Sales</th>\n",
       "    </tr>\n",
       "  </thead>\n",
       "  <tbody>\n",
       "    <tr>\n",
       "      <th>0</th>\n",
       "      <td>1</td>\n",
       "      <td>230.1</td>\n",
       "      <td>37.8</td>\n",
       "      <td>69.2</td>\n",
       "      <td>22.1</td>\n",
       "    </tr>\n",
       "    <tr>\n",
       "      <th>1</th>\n",
       "      <td>2</td>\n",
       "      <td>44.5</td>\n",
       "      <td>39.3</td>\n",
       "      <td>45.1</td>\n",
       "      <td>10.4</td>\n",
       "    </tr>\n",
       "    <tr>\n",
       "      <th>2</th>\n",
       "      <td>3</td>\n",
       "      <td>17.2</td>\n",
       "      <td>45.9</td>\n",
       "      <td>69.3</td>\n",
       "      <td>9.3</td>\n",
       "    </tr>\n",
       "  </tbody>\n",
       "</table>\n",
       "</div>"
      ],
      "text/plain": [
       "   Unnamed: 0     TV  Radio  Newspaper  Sales\n",
       "0           1  230.1   37.8       69.2   22.1\n",
       "1           2   44.5   39.3       45.1   10.4\n",
       "2           3   17.2   45.9       69.3    9.3"
      ]
     },
     "execution_count": 2,
     "metadata": {},
     "output_type": "execute_result"
    }
   ],
   "source": [
    "data=pd.read_csv('advertising_data.csv')\n",
    "data.head(3)"
   ]
  },
  {
   "cell_type": "code",
   "execution_count": 3,
   "id": "05346640-bff4-483c-af41-1cdc9cb64768",
   "metadata": {},
   "outputs": [],
   "source": [
    "#Separating data from into features and prediction variable\n",
    "X=data[['TV','Radio','Newspaper']]\n",
    "Y=data['Sales']"
   ]
  },
  {
   "cell_type": "code",
   "execution_count": 4,
   "id": "b2697490-6260-473b-86fa-8321c1bf8a28",
   "metadata": {},
   "outputs": [],
   "source": [
    "#Standardization to convert data into a uniform scale\n",
    "Y=np.array((Y-Y.mean())/Y.std())\n",
    "X=np.array((X-X.mean())/X.std())"
   ]
  },
  {
   "cell_type": "code",
   "execution_count": 5,
   "id": "99676caa-c929-45c4-8d8a-37434baf7cbf",
   "metadata": {},
   "outputs": [
    {
     "name": "stdout",
     "output_type": "stream",
     "text": [
      "Weights [0.64414354 0.38074849 0.66304791] Bias 0.5390815646058106\n"
     ]
    }
   ],
   "source": [
    "#Initialize weights and bias\n",
    "def weight_bias(dim):\n",
    "    np.random.seed(30)\n",
    "    random.seed(30)\n",
    "    #based on input of number of dimensions\n",
    "    weights=np.random.rand(dim)\n",
    "    #assign random value to bias\n",
    "    bias=random.random()\n",
    "    return weights,bias\n",
    "\n",
    "weights,bias=weight_bias(3)\n",
    "print('Weights',weights,'Bias',bias)"
   ]
  },
  {
   "cell_type": "code",
   "execution_count": 6,
   "id": "f4d9bdf2-0325-46ec-8e7d-e97668212388",
   "metadata": {},
   "outputs": [
    {
     "data": {
      "text/plain": [
       "array([2.71159317, 0.62382698, 1.32502616, 1.88587398, 1.32048354])"
      ]
     },
     "execution_count": 6,
     "metadata": {},
     "output_type": "execute_result"
    }
   ],
   "source": [
    "#Predicting the output\n",
    "def predict(weight,bias,X):\n",
    "    #Representation of y=mx+c\n",
    "    return bias+np.matmul(X,weights)\n",
    "\n",
    "weights,bias=weight_bias(3)\n",
    "y_pred=predict(weights,bias,X)\n",
    "y_pred[:5]"
   ]
  },
  {
   "cell_type": "code",
   "execution_count": 7,
   "id": "d8a598d2-1b5e-4299-ab21-e9ec607d0092",
   "metadata": {},
   "outputs": [
    {
     "data": {
      "text/plain": [
       "0.7924053642275873"
      ]
     },
     "execution_count": 7,
     "metadata": {},
     "output_type": "execute_result"
    }
   ],
   "source": [
    "#Loss function to calculate difference between actual and estimated values\n",
    "def loss_function(Y,y_pred):\n",
    "    diff=Y-y_pred\n",
    "    #Calculating mean squared error(MSE)\n",
    "    return np.sum(np.matmul(diff,diff.T))/len(diff)\n",
    "\n",
    "weights,bias=weight_bias(3)\n",
    "y_pred=predict(weights,bias,X)\n",
    "loss_function(Y,y_pred)"
   ]
  },
  {
   "cell_type": "code",
   "execution_count": 8,
   "id": "86419106-10d5-4ba6-96ee-d8856a898bf4",
   "metadata": {},
   "outputs": [
    {
     "name": "stdout",
     "output_type": "stream",
     "text": [
      "Initial weights [0.64414354 0.38074849 0.66304791] Inital bias 0.5390815646058106\n",
      "Updated weights [0.64572862 0.37926359 0.65098726] Updated bias 0.5282999333136944\n"
     ]
    }
   ],
   "source": [
    "#Update weights and bias\n",
    "def update_weight_bias(X,Y,y_pred,bias_0,weights_0,lr):\n",
    "    #Gradient of bias [Σ(y-y_pred*2)/N]\n",
    "    grd_bias=np.sum((y_pred-Y)*2)/len(Y)\n",
    "    #Gradient of weight [Σ((y_pred-y)*Feature)/N]\n",
    "    grd_weights=np.dot((y_pred-Y),X*2)/len(Y)\n",
    "    #New weights and bias value based on initial value of bias and weights\n",
    "    bias_1=bias_0-lr*grd_bias\n",
    "    weights_1=weights_0-lr*grd_weights\n",
    "    return bias_1,weights_1\n",
    "\n",
    "weights,bias=weight_bias(3)\n",
    "print('Initial weights',weights,'Inital bias',bias)\n",
    "y_pred=predict(weights,bias,X)\n",
    "bias,weights=update_weight_bias(X,Y,y_pred,bias,weights,0.01)\n",
    "print('Updated weights',weights,'Updated bias',bias)"
   ]
  },
  {
   "cell_type": "code",
   "execution_count": 9,
   "id": "8b669bc2-9ba4-46ee-81b9-deb19f64730c",
   "metadata": {},
   "outputs": [],
   "source": [
    "#Optimal weights and bias\n",
    "def gradient_descent_algo(X,Y,alpha=0.01,iters=200):\n",
    "    weights,bias=weight_bias(X.shape[1])\n",
    "    num=0\n",
    "    gradient_descent_df=pd.DataFrame(columns=['Itertaion','Loss'])\n",
    "    index=0\n",
    "\n",
    "    for i in range(num):\n",
    "        y_pred=predict(weights,bias,X)\n",
    "        i_loss=loss_function(Y,y_pred)\n",
    "        bias_prev=bias\n",
    "        weights_prev=weights\n",
    "        weights,bias=update_weight_bias(X,Y,y_pred,bias_prev,weights_prev,alpha)\n",
    "\n",
    "        if num%10==0:\n",
    "            gradient_descent_df.loc[index]=[num,i_loss]\n",
    "            index+=1\n",
    "        num+=1\n",
    "        \n",
    "    print('Final weights',weights,'Final bias',bias)\n",
    "    return gradient_descent_df,weights,bias"
   ]
  },
  {
   "cell_type": "code",
   "execution_count": 10,
   "id": "6e2cceeb-b5f3-4a53-a42c-56798776226c",
   "metadata": {},
   "outputs": [
    {
     "name": "stdout",
     "output_type": "stream",
     "text": [
      "Final weights [0.64414354 0.38074849 0.66304791] Final bias 0.5390815646058106\n"
     ]
    }
   ],
   "source": [
    "gradient_descent_df,weights,bias=gradient_descent_algo(X,Y,alpha=0.02,iters=200)"
   ]
  },
  {
   "cell_type": "code",
   "execution_count": null,
   "id": "f24cc020-f761-4b7c-8ef3-ee1311ad35ea",
   "metadata": {},
   "outputs": [],
   "source": []
  }
 ],
 "metadata": {
  "kernelspec": {
   "display_name": "Python 3 (ipykernel)",
   "language": "python",
   "name": "python3"
  },
  "language_info": {
   "codemirror_mode": {
    "name": "ipython",
    "version": 3
   },
   "file_extension": ".py",
   "mimetype": "text/x-python",
   "name": "python",
   "nbconvert_exporter": "python",
   "pygments_lexer": "ipython3",
   "version": "3.11.7"
  }
 },
 "nbformat": 4,
 "nbformat_minor": 5
}
